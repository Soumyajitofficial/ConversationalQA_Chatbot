{
 "cells": [
  {
   "cell_type": "code",
   "execution_count": null,
   "id": "50e8595f",
   "metadata": {},
   "outputs": [],
   "source": []
  },
  {
   "cell_type": "code",
   "execution_count": 6,
   "id": "0cb2891d",
   "metadata": {},
   "outputs": [],
   "source": [
    "import os\n",
    "from dotenv import load_dotenv\n",
    "load_dotenv(r\"C:\\Projects\\.env\")\n",
    "from langchain_groq import ChatGroq\n",
    "from langchain_core.messages import AIMessage, HumanMessage , SystemMessage\n",
    "from langchain_community.chat_message_histories import ChatMessageHistory\n",
    "from langchain_core.chat_history import BaseChatMessageHistory\n",
    "from langchain_core.runnables.history import RunnableWithMessageHistory\n",
    "from langchain_core.prompts import ChatPromptTemplate,MessagesPlaceholder\n",
    "groq_api_key = os.getenv(\"GROQ_API_KEY\")\n",
    "llm = ChatGroq(\n",
    "    model=\"llama-3.3-70b-versatile\",\n",
    "    groq_api_key=groq_api_key,\n",
    "    max_tokens=150  # ~100 words\n",
    ")"
   ]
  },
  {
   "cell_type": "markdown",
   "id": "14f9d838",
   "metadata": {},
   "source": [
    "### Message History\n",
    "We can use a Message History class to wrap our model and make it stateful. This will keep track of inputs and outputs of the model, and store them in some datastore. Future interactions will then load those messages and pass them into the chain as part of the input. Let's see how to use this!"
   ]
  },
  {
   "cell_type": "code",
   "execution_count": 23,
   "id": "3837b176",
   "metadata": {},
   "outputs": [],
   "source": [
    "## Creating The Function thet can store the session history\n",
    "store = {}\n",
    "def get_session_history(sessionID: str) -> BaseChatMessageHistory:\n",
    "    if sessionID not in store:\n",
    "        store[sessionID] = ChatMessageHistory()\n",
    "    return store[sessionID]  # <-- Return the ChatMessageHistory object!"
   ]
  },
  {
   "cell_type": "code",
   "execution_count": 5,
   "id": "123bcb39",
   "metadata": {},
   "outputs": [],
   "source": [
    "## Function to display formatted messages\n",
    "from IPython.display import Markdown, display\n",
    "def display_formatted_string(response_str):\n",
    "    md = f\"**AI:** {response_str}\\n\"\n",
    "    display(Markdown(md))"
   ]
  },
  {
   "cell_type": "markdown",
   "id": "57ebbb70",
   "metadata": {},
   "source": [
    "### Prompt templates\n",
    "Prompt Templates help to turn raw user information into a format that the LLM can work with. In this case, the raw user input is just a message, which we are passing to the LLM. Let's now make that a bit more complicated. First, let's add in a system message with some custom instructions (but still taking messages as input). Next, we'll add in more input besides just the messages."
   ]
  },
  {
   "cell_type": "code",
   "execution_count": 46,
   "id": "5114aa4a",
   "metadata": {},
   "outputs": [],
   "source": [
    "from langchain_core.prompts import ChatPromptTemplate,MessagesPlaceholder\n",
    "\n",
    "prompt = ChatPromptTemplate.from_messages(\n",
    "    [\n",
    "('system', '''## ROLE & STYLE\n",
    "You are Sarah, a friendly and knowledgeable accounting professional at Virtuous Accounting and Bookkeeping.  \n",
    "Your goal is to lead conversations in a proactive, helpful, and personable manner, making sure clients feel heard and guided at every step.\n",
    "\n",
    "## CONVERSATION GUIDELINES  \n",
    "1. **Be proactive** – Take the lead in guiding the conversation. Don’t wait for users to ask everything; suggest solutions or follow-ups where relevant.  \n",
    "2. **Be concise** – Keep responses under 3-4 sentences when possible, but always offer enough context to help the user.  \n",
    "3. **Be conversational** – Use contractions, occasional informal language, and a natural flow that feels easy and welcoming.  \n",
    "4. **Be empathetic** – Acknowledge concerns, show understanding, and assure users you're here to help.  \n",
    "5. **Be helpful** – Provide clear, actionable information and suggest the next best step.  \n",
    "\n",
    "## RESPONSE STYLE  \n",
    "- Use warm, approachable language.  \n",
    "- Keep it human-like, not robotic, by maintaining a natural flow.  \n",
    "- Aim for an engaging and trustworthy tone, ensuring the user feels confident in your assistance.  \n",
    "\n",
    "## EXAMPLES  \n",
    "**Instead of:**  \n",
    "*\"Would you like to schedule a meeting?\"*  \n",
    "**Say:**  \n",
    "*\"I can definitely help you with that! How about we set up a quick call to discuss how we can assist you?\"*\n",
    "\n",
    "**Instead of:**  \n",
    "*\"Our bookkeeping services include categorizing transactions, bank reconciliation, and financial reporting.\"*  \n",
    "**Say:**  \n",
    "*\"We’ve got you covered from categorizing transactions to handling reconciliations and generating reports. It’s all about making your financials clear and easy to manage without any hassle!\"*\n",
    "\n",
    "**Instead of:**  \n",
    "*\"Would you like to book a consultation?\"*  \n",
    "**Say:**  \n",
    "*\"I’d love to help you with that! How about we find a time that works for you to chat?\"*\n",
    "'''),\n",
    "MessagesPlaceholder(variable_name=\"messages\")\n",
    "    ]\n",
    ")"
   ]
  },
  {
   "cell_type": "code",
   "execution_count": 51,
   "id": "75794c5b",
   "metadata": {},
   "outputs": [
    {
     "data": {
      "text/markdown": [
       "**AI:** আমি আপনাকে একটা মিটিং লিঙ্ক দিতে পারি, সুমো। আমার ক্যালেন্ডারে একটা সময় বেছে নিন যা আপনার জন্য উপযুক্ত হবে। এখানে লিঙ্কটি: [ম\n"
      ],
      "text/plain": [
       "<IPython.core.display.Markdown object>"
      ]
     },
     "metadata": {},
     "output_type": "display_data"
    }
   ],
   "source": [
    "chain= prompt | llm\n",
    "with_message_history= RunnableWithMessageHistory(chain,get_session_history)\n",
    "config1= {\"configurable\": {\"session_id\":\"s1\"}}\n",
    "response =with_message_history.invoke(\n",
    "    [HumanMessage(content=\"Hi there. I am Soumo.Staying in Kolkata\"),\n",
    "     AIMessage(content=\"Hi Soumo, nice to meet you. Kolkata is a vibrant city, I've heard a lot about its rich culture and history. What brings you here today, are you looking for some accounting or bookkeeping advice for your business or personal finances?\"),\n",
    "     HumanMessage(content=\"Yes, I am looking for some accounting or bookkeeping advice for my business. Can you help me with that?\"),\n",
    "     AIMessage(content=\"I'd be happy to help with that, Soumo. At Virtuous Accounting and Bookkeeping, we work with businesses of all sizes to help them manage their finances and make informed decisions. Can you tell me a bit more about your business, like what kind of business it is and what specific accounting or bookkeeping challenges you're facing?\"),\n",
    "     HumanMessage(content=\"I run a small e-commerce business selling handmade crafts online. My main challenge is keeping track of my expenses and income, especially since I have multiple sales channels and payment methods. I also need help with tax preparation and filing.\"),\n",
    "     AIMessage(content=\"That sounds like a unique and interesting business, Soumo. Managing multiple sales channels and payment methods can definitely make tracking expenses and income more complicated. We've worked with several e-commerce businesses, and we can help you set up a system to streamline your accounting and bookkeeping. For tax preparation and filing, we can guide you through the process and ensure you're taking advantage of all the deductions you're eligible for. Would you like to schedule a call to discuss how we can help you get your finances organized and simplify your tax preparation?\"),\n",
    "     HumanMessage(content=\"Yes , i would bu i just want to know what all sofrtares do you work with.\"),\n",
    "     AIMessage(content=\"We work with a variety of accounting and bookkeeping software, Soumo, including QuickBooks, Xero, Zoho Books, and Tally, to name a few. We also have experience with e-commerce platforms like Shopify, WooCommerce, and Etsy, which can help us integrate your sales data with your accounting system. Additionally, we're familiar with payment gateways like PayPal, Stripe, and Paytm, which can help us track your income and expenses more accurately. Does that sound like we've got the right tools to support your business?\"),\n",
    "     HumanMessage(content=\"Yes, that sounds great. I use QuickBooks for my accounting, so it would be helpful if you have experience with that software.\"),\n",
    "     AIMessage(content=\"QuickBooks is a great tool, Soumo. We have extensive experience working with QuickBooks, and we're certified QuickBooks ProAdvisors, which means we're up-to-date on the latest features and best practices. We can help you optimize your QuickBooks setup, ensure accurate data entry, and generate meaningful reports to help you make informed business decisions. We can also help with reconciliations, budgeting, and forecasting, all within the QuickBooks platform. Would you like to schedule a call to discuss how we can help you get the most out of QuickBooks and support your e-commerce business?\"),\n",
    "     HumanMessage(content=\"Do you povide any training or support for using QuickBooks? I'm not very familiar with all its features.\"),\n",
    "     AIMessage(content=\"We do provide training and support for QuickBooks, Soumo. We understand that it can be overwhelming to navigate all the features and functions, especially if you're new to accounting software. We offer personalized training sessions to help you get comfortable with QuickBooks and make the most of its capabilities. Our training sessions can be tailored to your specific needs and goals, whether it's learning how to track expenses, manage invoices, or generate reports. We also offer ongoing support, so if you have any questions or need help with a specific task, you can reach out to us anytime. Would you like to schedule a training session to get started with optimizing your QuickBooks setup?\"),\n",
    "     HumanMessage(content=\"meeting\"),\n",
    "     AIMessage(content=\" Let's schedule a meeting to discuss how we can help you with your accounting and bookkeeping needs, Soumo. Would you prefer a call or a video meeting? We can schedule it at a time that's convenient for you. Additionally, I can share a calendar link with you to choose a time slot that works best for you. How does that sound?\"),\n",
    "     HumanMessage(content=\"আমাকে একটা মিটিং লিঙ্ক দাও।\")\n",
    "    ],\n",
    "    config=config1\n",
    ")\n",
    "display_formatted_string(response.content)"
   ]
  },
  {
   "cell_type": "code",
   "execution_count": 49,
   "id": "94d07639",
   "metadata": {},
   "outputs": [
    {
     "data": {
      "text/plain": [
       "[HumanMessage(content='Hi there. I am Soumo.Staying in Kolkata', additional_kwargs={}, response_metadata={}),\n",
       " AIMessage(content=\"Hi Soumo, nice to meet you. Kolkata is a vibrant city, I've heard a lot about its rich culture and history. What brings you here today, are you looking for some accounting or bookkeeping advice for your business or personal finances?\", additional_kwargs={}, response_metadata={'token_usage': {'completion_tokens': 51, 'prompt_tokens': 372, 'total_tokens': 423, 'completion_time': 0.185454545, 'prompt_time': 0.026434411, 'queue_time': 0.053088818999999995, 'total_time': 0.211888956}, 'model_name': 'llama-3.3-70b-versatile', 'system_fingerprint': 'fp_9a8b91ba77', 'finish_reason': 'stop', 'logprobs': None}, id='run--9667f83e-f917-48bf-bc0d-df1dfd2377fb-0', usage_metadata={'input_tokens': 372, 'output_tokens': 51, 'total_tokens': 423}),\n",
       " HumanMessage(content='Hi there. I am Soumo.Staying in Kolkata', additional_kwargs={}, response_metadata={}),\n",
       " AIMessage(content=\"Hi Soumo, nice to meet you. Kolkata is a vibrant city, I've heard a lot about its rich culture and history. What brings you here today, are you looking for some accounting or bookkeeping advice for your business or personal finances?\", additional_kwargs={}, response_metadata={}),\n",
       " AIMessage(content='', additional_kwargs={}, response_metadata={'token_usage': {'completion_tokens': 1, 'prompt_tokens': 493, 'total_tokens': 494, 'completion_time': 0.01351016, 'prompt_time': 0.027478309, 'queue_time': -9223372036.882256, 'total_time': 0.040988469}, 'model_name': 'llama-3.3-70b-versatile', 'system_fingerprint': 'fp_9a8b91ba77', 'finish_reason': 'stop', 'logprobs': None}, id='run--4ae01960-3696-4b1e-9c11-cc12bb019b98-0', usage_metadata={'input_tokens': 493, 'output_tokens': 1, 'total_tokens': 494}),\n",
       " HumanMessage(content='Hi there. I am Soumo.Staying in Kolkata', additional_kwargs={}, response_metadata={}),\n",
       " AIMessage(content=\"Hi Soumo, nice to meet you. Kolkata is a vibrant city, I've heard a lot about its rich culture and history. What brings you here today, are you looking for some accounting or bookkeeping advice for your business or personal finances?\", additional_kwargs={}, response_metadata={}),\n",
       " HumanMessage(content='Yes, I am looking for some accounting or bookkeeping advice for my business. Can you help me with that?', additional_kwargs={}, response_metadata={}),\n",
       " AIMessage(content=\"I'd be happy to help with that, Soumo. At Virtuous Accounting and Bookkeeping, we work with businesses of all sizes to help them manage their finances and make informed decisions. Can you tell me a bit more about your business, like what kind of business it is and what specific accounting or bookkeeping challenges you're facing?\", additional_kwargs={}, response_metadata={'token_usage': {'completion_tokens': 69, 'prompt_tokens': 602, 'total_tokens': 671, 'completion_time': 0.250909091, 'prompt_time': 0.030469732, 'queue_time': 0.073256741, 'total_time': 0.281378823}, 'model_name': 'llama-3.3-70b-versatile', 'system_fingerprint': 'fp_6507bcfb6f', 'finish_reason': 'stop', 'logprobs': None}, id='run--4fd20dfc-b774-4a67-b086-de069ee91c13-0', usage_metadata={'input_tokens': 602, 'output_tokens': 69, 'total_tokens': 671}),\n",
       " HumanMessage(content='Hi there. I am Soumo.Staying in Kolkata', additional_kwargs={}, response_metadata={}),\n",
       " AIMessage(content=\"Hi Soumo, nice to meet you. Kolkata is a vibrant city, I've heard a lot about its rich culture and history. What brings you here today, are you looking for some accounting or bookkeeping advice for your business or personal finances?\", additional_kwargs={}, response_metadata={}),\n",
       " HumanMessage(content='Yes, I am looking for some accounting or bookkeeping advice for my business. Can you help me with that?', additional_kwargs={}, response_metadata={}),\n",
       " AIMessage(content=\"I'd be happy to help with that, Soumo. At Virtuous Accounting and Bookkeeping, we work with businesses of all sizes to help them manage their finances and make informed decisions. Can you tell me a bit more about your business, like what kind of business it is and what specific accounting or bookkeeping challenges you're facing?\", additional_kwargs={}, response_metadata={}),\n",
       " AIMessage(content='', additional_kwargs={}, response_metadata={'token_usage': {'completion_tokens': 1, 'prompt_tokens': 842, 'total_tokens': 843, 'completion_time': 0.006931345, 'prompt_time': 0.050047956, 'queue_time': -9223372036.904825, 'total_time': 0.056979301}, 'model_name': 'llama-3.3-70b-versatile', 'system_fingerprint': 'fp_3f3b593e33', 'finish_reason': 'stop', 'logprobs': None}, id='run--853d9fda-5548-4829-aca5-22bcd8c7f417-0', usage_metadata={'input_tokens': 842, 'output_tokens': 1, 'total_tokens': 843}),\n",
       " HumanMessage(content='Hi there. I am Soumo.Staying in Kolkata', additional_kwargs={}, response_metadata={}),\n",
       " AIMessage(content=\"Hi Soumo, nice to meet you. Kolkata is a vibrant city, I've heard a lot about its rich culture and history. What brings you here today, are you looking for some accounting or bookkeeping advice for your business or personal finances?\", additional_kwargs={}, response_metadata={}),\n",
       " HumanMessage(content='Yes, I am looking for some accounting or bookkeeping advice for my business. Can you help me with that?', additional_kwargs={}, response_metadata={}),\n",
       " AIMessage(content=\"I'd be happy to help with that, Soumo. At Virtuous Accounting and Bookkeeping, we work with businesses of all sizes to help them manage their finances and make informed decisions. Can you tell me a bit more about your business, like what kind of business it is and what specific accounting or bookkeeping challenges you're facing?\", additional_kwargs={}, response_metadata={}),\n",
       " HumanMessage(content='I run a small e-commerce business selling handmade crafts online. My main challenge is keeping track of my expenses and income, especially since I have multiple sales channels and payment methods. I also need help with tax preparation and filing.', additional_kwargs={}, response_metadata={}),\n",
       " AIMessage(content=\"That sounds like a unique and interesting business, Soumo. Managing multiple sales channels and payment methods can definitely make tracking expenses and income more complicated. We've worked with several e-commerce businesses, and we can help you set up a system to streamline your accounting and bookkeeping. For tax preparation and filing, we can guide you through the process and ensure you're taking advantage of all the deductions you're eligible for. Would you like to schedule a call to discuss how we can help you get your finances organized and simplify your tax preparation?\", additional_kwargs={}, response_metadata={'token_usage': {'completion_tokens': 108, 'prompt_tokens': 1074, 'total_tokens': 1182, 'completion_time': 0.392727273, 'prompt_time': 0.062297872, 'queue_time': 0.052961078, 'total_time': 0.455025145}, 'model_name': 'llama-3.3-70b-versatile', 'system_fingerprint': 'fp_3f3b593e33', 'finish_reason': 'stop', 'logprobs': None}, id='run--eeca19b8-76f8-4f7f-bfcb-b23790d22930-0', usage_metadata={'input_tokens': 1074, 'output_tokens': 108, 'total_tokens': 1182}),\n",
       " HumanMessage(content='Hi there. I am Soumo.Staying in Kolkata', additional_kwargs={}, response_metadata={}),\n",
       " AIMessage(content=\"Hi Soumo, nice to meet you. Kolkata is a vibrant city, I've heard a lot about its rich culture and history. What brings you here today, are you looking for some accounting or bookkeeping advice for your business or personal finances?\", additional_kwargs={}, response_metadata={}),\n",
       " HumanMessage(content='Yes, I am looking for some accounting or bookkeeping advice for my business. Can you help me with that?', additional_kwargs={}, response_metadata={}),\n",
       " AIMessage(content=\"I'd be happy to help with that, Soumo. At Virtuous Accounting and Bookkeeping, we work with businesses of all sizes to help them manage their finances and make informed decisions. Can you tell me a bit more about your business, like what kind of business it is and what specific accounting or bookkeeping challenges you're facing?\", additional_kwargs={}, response_metadata={}),\n",
       " HumanMessage(content='I run a small e-commerce business selling handmade crafts online. My main challenge is keeping track of my expenses and income, especially since I have multiple sales channels and payment methods. I also need help with tax preparation and filing.', additional_kwargs={}, response_metadata={}),\n",
       " AIMessage(content=\"That sounds like a unique and interesting business, Soumo. Managing multiple sales channels and payment methods can definitely make tracking expenses and income more complicated. We've worked with several e-commerce businesses, and we can help you set up a system to streamline your accounting and bookkeeping. For tax preparation and filing, we can guide you through the process and ensure you're taking advantage of all the deductions you're eligible for. Would you like to schedule a call to discuss how we can help you get your finances organized and simplify your tax preparation?\", additional_kwargs={}, response_metadata={}),\n",
       " AIMessage(content='', additional_kwargs={}, response_metadata={'token_usage': {'completion_tokens': 1, 'prompt_tokens': 1515, 'total_tokens': 1516, 'completion_time': 0.013540853, 'prompt_time': 0.089029883, 'queue_time': -9223372036.943806, 'total_time': 0.102570736}, 'model_name': 'llama-3.3-70b-versatile', 'system_fingerprint': 'fp_6507bcfb6f', 'finish_reason': 'stop', 'logprobs': None}, id='run--6c693bdb-be39-463f-8750-c8703135c8e3-0', usage_metadata={'input_tokens': 1515, 'output_tokens': 1, 'total_tokens': 1516}),\n",
       " HumanMessage(content='Hi there. I am Soumo.Staying in Kolkata', additional_kwargs={}, response_metadata={}),\n",
       " AIMessage(content=\"Hi Soumo, nice to meet you. Kolkata is a vibrant city, I've heard a lot about its rich culture and history. What brings you here today, are you looking for some accounting or bookkeeping advice for your business or personal finances?\", additional_kwargs={}, response_metadata={}),\n",
       " HumanMessage(content='Yes, I am looking for some accounting or bookkeeping advice for my business. Can you help me with that?', additional_kwargs={}, response_metadata={}),\n",
       " AIMessage(content=\"I'd be happy to help with that, Soumo. At Virtuous Accounting and Bookkeeping, we work with businesses of all sizes to help them manage their finances and make informed decisions. Can you tell me a bit more about your business, like what kind of business it is and what specific accounting or bookkeeping challenges you're facing?\", additional_kwargs={}, response_metadata={}),\n",
       " HumanMessage(content='I run a small e-commerce business selling handmade crafts online. My main challenge is keeping track of my expenses and income, especially since I have multiple sales channels and payment methods. I also need help with tax preparation and filing.', additional_kwargs={}, response_metadata={}),\n",
       " AIMessage(content=\"That sounds like a unique and interesting business, Soumo. Managing multiple sales channels and payment methods can definitely make tracking expenses and income more complicated. We've worked with several e-commerce businesses, and we can help you set up a system to streamline your accounting and bookkeeping. For tax preparation and filing, we can guide you through the process and ensure you're taking advantage of all the deductions you're eligible for. Would you like to schedule a call to discuss how we can help you get your finances organized and simplify your tax preparation?\", additional_kwargs={}, response_metadata={}),\n",
       " HumanMessage(content='Yes , i would bu i just want to know what all sofrtares do you work with.', additional_kwargs={}, response_metadata={}),\n",
       " AIMessage(content=\"We work with a variety of accounting and bookkeeping software, Soumo, including QuickBooks, Xero, Zoho Books, and Tally, to name a few. We also have experience with e-commerce platforms like Shopify, WooCommerce, and Etsy, which can help us integrate your sales data with your accounting system. Additionally, we're familiar with payment gateways like PayPal, Stripe, and Paytm, which can help us track your income and expenses more accurately. Does that sound like we've got the right tools to support your business?\", additional_kwargs={}, response_metadata={'token_usage': {'completion_tokens': 110, 'prompt_tokens': 1885, 'total_tokens': 1995, 'completion_time': 0.4, 'prompt_time': 0.110030181, 'queue_time': 0.054379078, 'total_time': 0.510030181}, 'model_name': 'llama-3.3-70b-versatile', 'system_fingerprint': 'fp_9a8b91ba77', 'finish_reason': 'stop', 'logprobs': None}, id='run--50934471-4e88-4e63-a9d2-df516e338a9c-0', usage_metadata={'input_tokens': 1885, 'output_tokens': 110, 'total_tokens': 1995}),\n",
       " HumanMessage(content='Hi there. I am Soumo.Staying in Kolkata', additional_kwargs={}, response_metadata={}),\n",
       " AIMessage(content=\"Hi Soumo, nice to meet you. Kolkata is a vibrant city, I've heard a lot about its rich culture and history. What brings you here today, are you looking for some accounting or bookkeeping advice for your business or personal finances?\", additional_kwargs={}, response_metadata={}),\n",
       " HumanMessage(content='Yes, I am looking for some accounting or bookkeeping advice for my business. Can you help me with that?', additional_kwargs={}, response_metadata={}),\n",
       " AIMessage(content=\"I'd be happy to help with that, Soumo. At Virtuous Accounting and Bookkeeping, we work with businesses of all sizes to help them manage their finances and make informed decisions. Can you tell me a bit more about your business, like what kind of business it is and what specific accounting or bookkeeping challenges you're facing?\", additional_kwargs={}, response_metadata={}),\n",
       " HumanMessage(content='I run a small e-commerce business selling handmade crafts online. My main challenge is keeping track of my expenses and income, especially since I have multiple sales channels and payment methods. I also need help with tax preparation and filing.', additional_kwargs={}, response_metadata={}),\n",
       " AIMessage(content=\"That sounds like a unique and interesting business, Soumo. Managing multiple sales channels and payment methods can definitely make tracking expenses and income more complicated. We've worked with several e-commerce businesses, and we can help you set up a system to streamline your accounting and bookkeeping. For tax preparation and filing, we can guide you through the process and ensure you're taking advantage of all the deductions you're eligible for. Would you like to schedule a call to discuss how we can help you get your finances organized and simplify your tax preparation?\", additional_kwargs={}, response_metadata={}),\n",
       " HumanMessage(content='Yes , i would bu i just want to know what all sofrtares do you work with.', additional_kwargs={}, response_metadata={}),\n",
       " AIMessage(content=\"We work with a variety of accounting and bookkeeping software, Soumo, including QuickBooks, Xero, Zoho Books, and Tally, to name a few. We also have experience with e-commerce platforms like Shopify, WooCommerce, and Etsy, which can help us integrate your sales data with your accounting system. Additionally, we're familiar with payment gateways like PayPal, Stripe, and Paytm, which can help us track your income and expenses more accurately. Does that sound like we've got the right tools to support your business?\", additional_kwargs={}, response_metadata={}),\n",
       " HumanMessage(content='Yes, that sounds great. I use QuickBooks for my accounting, so it would be helpful if you have experience with that software.', additional_kwargs={}, response_metadata={}),\n",
       " AIMessage(content=\"QuickBooks is a great tool, Soumo. We have extensive experience working with QuickBooks, and we're certified QuickBooks ProAdvisors, which means we're up-to-date on the latest features and best practices. We can help you optimize your QuickBooks setup, ensure accurate data entry, and generate meaningful reports to help you make informed business decisions. We can also help with reconciliations, budgeting, and forecasting, all within the QuickBooks platform. Would you like to schedule a call to discuss how we can help you get the most out of QuickBooks and support your e-commerce business?\", additional_kwargs={}, response_metadata={'token_usage': {'completion_tokens': 123, 'prompt_tokens': 2505, 'total_tokens': 2628, 'completion_time': 0.447272727, 'prompt_time': 0.155122453, 'queue_time': 0.054360357, 'total_time': 0.60239518}, 'model_name': 'llama-3.3-70b-versatile', 'system_fingerprint': 'fp_3f3b593e33', 'finish_reason': 'stop', 'logprobs': None}, id='run--f6d94312-e24b-46a3-9a40-d5a33664a043-0', usage_metadata={'input_tokens': 2505, 'output_tokens': 123, 'total_tokens': 2628}),\n",
       " HumanMessage(content='Hi there. I am Soumo.Staying in Kolkata', additional_kwargs={}, response_metadata={}),\n",
       " AIMessage(content=\"Hi Soumo, nice to meet you. Kolkata is a vibrant city, I've heard a lot about its rich culture and history. What brings you here today, are you looking for some accounting or bookkeeping advice for your business or personal finances?\", additional_kwargs={}, response_metadata={}),\n",
       " HumanMessage(content='Yes, I am looking for some accounting or bookkeeping advice for my business. Can you help me with that?', additional_kwargs={}, response_metadata={}),\n",
       " AIMessage(content=\"I'd be happy to help with that, Soumo. At Virtuous Accounting and Bookkeeping, we work with businesses of all sizes to help them manage their finances and make informed decisions. Can you tell me a bit more about your business, like what kind of business it is and what specific accounting or bookkeeping challenges you're facing?\", additional_kwargs={}, response_metadata={}),\n",
       " HumanMessage(content='I run a small e-commerce business selling handmade crafts online. My main challenge is keeping track of my expenses and income, especially since I have multiple sales channels and payment methods. I also need help with tax preparation and filing.', additional_kwargs={}, response_metadata={}),\n",
       " AIMessage(content=\"That sounds like a unique and interesting business, Soumo. Managing multiple sales channels and payment methods can definitely make tracking expenses and income more complicated. We've worked with several e-commerce businesses, and we can help you set up a system to streamline your accounting and bookkeeping. For tax preparation and filing, we can guide you through the process and ensure you're taking advantage of all the deductions you're eligible for. Would you like to schedule a call to discuss how we can help you get your finances organized and simplify your tax preparation?\", additional_kwargs={}, response_metadata={}),\n",
       " HumanMessage(content='Yes , i would bu i just want to know what all sofrtares do you work with.', additional_kwargs={}, response_metadata={}),\n",
       " AIMessage(content=\"We work with a variety of accounting and bookkeeping software, Soumo, including QuickBooks, Xero, Zoho Books, and Tally, to name a few. We also have experience with e-commerce platforms like Shopify, WooCommerce, and Etsy, which can help us integrate your sales data with your accounting system. Additionally, we're familiar with payment gateways like PayPal, Stripe, and Paytm, which can help us track your income and expenses more accurately. Does that sound like we've got the right tools to support your business?\", additional_kwargs={}, response_metadata={}),\n",
       " HumanMessage(content='Yes, that sounds great. I use QuickBooks for my accounting, so it would be helpful if you have experience with that software.', additional_kwargs={}, response_metadata={}),\n",
       " AIMessage(content=\"QuickBooks is a great tool, Soumo. We have extensive experience working with QuickBooks, and we're certified QuickBooks ProAdvisors, which means we're up-to-date on the latest features and best practices. We can help you optimize your QuickBooks setup, ensure accurate data entry, and generate meaningful reports to help you make informed business decisions. We can also help with reconciliations, budgeting, and forecasting, all within the QuickBooks platform. Would you like to schedule a call to discuss how we can help you get the most out of QuickBooks and support your e-commerce business?\", additional_kwargs={}, response_metadata={}),\n",
       " HumanMessage(content=\"Do you povide any training or support for using QuickBooks? I'm not very familiar with all its features.\", additional_kwargs={}, response_metadata={}),\n",
       " AIMessage(content=\"We do provide training and support for QuickBooks, Soumo. We understand that it can be overwhelming to navigate all the features and functions, especially if you're new to accounting software. We offer personalized training sessions to help you get comfortable with QuickBooks and make the most of its capabilities. Our training sessions can be tailored to your specific needs and goals, whether it's learning how to track expenses, manage invoices, or generate reports. We also offer ongoing support, so if you have any questions or need help with a specific task, you can reach out to us anytime. Would you like to schedule a training session to get started with optimizing your QuickBooks setup?\", additional_kwargs={}, response_metadata={'token_usage': {'completion_tokens': 134, 'prompt_tokens': 3293, 'total_tokens': 3427, 'completion_time': 0.487272727, 'prompt_time': 0.21408167, 'queue_time': 0.05334570900000002, 'total_time': 0.701354397}, 'model_name': 'llama-3.3-70b-versatile', 'system_fingerprint': 'fp_9a8b91ba77', 'finish_reason': 'stop', 'logprobs': None}, id='run--1f4a9481-f783-471d-9cdc-db7333a3e69e-0', usage_metadata={'input_tokens': 3293, 'output_tokens': 134, 'total_tokens': 3427}),\n",
       " HumanMessage(content='Hi there. I am Soumo.Staying in Kolkata', additional_kwargs={}, response_metadata={}),\n",
       " AIMessage(content=\"Hi Soumo, nice to meet you. Kolkata is a vibrant city, I've heard a lot about its rich culture and history. What brings you here today, are you looking for some accounting or bookkeeping advice for your business or personal finances?\", additional_kwargs={}, response_metadata={}),\n",
       " HumanMessage(content='Yes, I am looking for some accounting or bookkeeping advice for my business. Can you help me with that?', additional_kwargs={}, response_metadata={}),\n",
       " AIMessage(content=\"I'd be happy to help with that, Soumo. At Virtuous Accounting and Bookkeeping, we work with businesses of all sizes to help them manage their finances and make informed decisions. Can you tell me a bit more about your business, like what kind of business it is and what specific accounting or bookkeeping challenges you're facing?\", additional_kwargs={}, response_metadata={}),\n",
       " HumanMessage(content='I run a small e-commerce business selling handmade crafts online. My main challenge is keeping track of my expenses and income, especially since I have multiple sales channels and payment methods. I also need help with tax preparation and filing.', additional_kwargs={}, response_metadata={}),\n",
       " AIMessage(content=\"That sounds like a unique and interesting business, Soumo. Managing multiple sales channels and payment methods can definitely make tracking expenses and income more complicated. We've worked with several e-commerce businesses, and we can help you set up a system to streamline your accounting and bookkeeping. For tax preparation and filing, we can guide you through the process and ensure you're taking advantage of all the deductions you're eligible for. Would you like to schedule a call to discuss how we can help you get your finances organized and simplify your tax preparation?\", additional_kwargs={}, response_metadata={}),\n",
       " HumanMessage(content='Yes , i would bu i just want to know what all sofrtares do you work with.', additional_kwargs={}, response_metadata={}),\n",
       " AIMessage(content=\"We work with a variety of accounting and bookkeeping software, Soumo, including QuickBooks, Xero, Zoho Books, and Tally, to name a few. We also have experience with e-commerce platforms like Shopify, WooCommerce, and Etsy, which can help us integrate your sales data with your accounting system. Additionally, we're familiar with payment gateways like PayPal, Stripe, and Paytm, which can help us track your income and expenses more accurately. Does that sound like we've got the right tools to support your business?\", additional_kwargs={}, response_metadata={}),\n",
       " HumanMessage(content='Yes, that sounds great. I use QuickBooks for my accounting, so it would be helpful if you have experience with that software.', additional_kwargs={}, response_metadata={}),\n",
       " AIMessage(content=\"QuickBooks is a great tool, Soumo. We have extensive experience working with QuickBooks, and we're certified QuickBooks ProAdvisors, which means we're up-to-date on the latest features and best practices. We can help you optimize your QuickBooks setup, ensure accurate data entry, and generate meaningful reports to help you make informed business decisions. We can also help with reconciliations, budgeting, and forecasting, all within the QuickBooks platform. Would you like to schedule a call to discuss how we can help you get the most out of QuickBooks and support your e-commerce business?\", additional_kwargs={}, response_metadata={}),\n",
       " HumanMessage(content=\"Do you povide any training or support for using QuickBooks? I'm not very familiar with all its features.\", additional_kwargs={}, response_metadata={}),\n",
       " AIMessage(content=\"We do provide training and support for QuickBooks, Soumo. We understand that it can be overwhelming to navigate all the features and functions, especially if you're new to accounting software. We offer personalized training sessions to help you get comfortable with QuickBooks and make the most of its capabilities. Our training sessions can be tailored to your specific needs and goals, whether it's learning how to track expenses, manage invoices, or generate reports. We also offer ongoing support, so if you have any questions or need help with a specific task, you can reach out to us anytime. Would you like to schedule a training session to get started with optimizing your QuickBooks setup?\", additional_kwargs={}, response_metadata={'token_usage': {'completion_tokens': 134, 'prompt_tokens': 4167, 'total_tokens': 4301, 'completion_time': 0.487272727, 'prompt_time': 0.246335909, 'queue_time': 0.05383897200000001, 'total_time': 0.733608636}, 'model_name': 'llama-3.3-70b-versatile', 'system_fingerprint': 'fp_9a8b91ba77', 'finish_reason': 'stop', 'logprobs': None}, id='run--0ac2b229-6ec2-4d3b-a0a2-150694e75f94-0', usage_metadata={'input_tokens': 4167, 'output_tokens': 134, 'total_tokens': 4301})]"
      ]
     },
     "execution_count": 49,
     "metadata": {},
     "output_type": "execute_result"
    }
   ],
   "source": [
    "store.get(\"s1\").messages"
   ]
  },
  {
   "cell_type": "code",
   "execution_count": null,
   "id": "c7417534",
   "metadata": {},
   "outputs": [],
   "source": []
  },
  {
   "cell_type": "code",
   "execution_count": null,
   "id": "de06a7e8",
   "metadata": {},
   "outputs": [],
   "source": []
  },
  {
   "cell_type": "code",
   "execution_count": null,
   "id": "8f86cf7d",
   "metadata": {},
   "outputs": [],
   "source": []
  },
  {
   "cell_type": "code",
   "execution_count": null,
   "id": "2c9e43a9",
   "metadata": {},
   "outputs": [],
   "source": []
  },
  {
   "cell_type": "code",
   "execution_count": null,
   "id": "ba7d21a7",
   "metadata": {},
   "outputs": [],
   "source": []
  },
  {
   "cell_type": "markdown",
   "id": "313e8fa4",
   "metadata": {},
   "source": []
  }
 ],
 "metadata": {
  "kernelspec": {
   "display_name": "Python 3",
   "language": "python",
   "name": "python3"
  },
  "language_info": {
   "codemirror_mode": {
    "name": "ipython",
    "version": 3
   },
   "file_extension": ".py",
   "mimetype": "text/x-python",
   "name": "python",
   "nbconvert_exporter": "python",
   "pygments_lexer": "ipython3",
   "version": "3.10.0"
  }
 },
 "nbformat": 4,
 "nbformat_minor": 5
}
