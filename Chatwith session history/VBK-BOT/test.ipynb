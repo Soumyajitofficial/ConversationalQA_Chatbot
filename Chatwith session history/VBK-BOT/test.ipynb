{
 "cells": [
  {
   "cell_type": "code",
   "execution_count": 1,
   "id": "6a3b4628",
   "metadata": {},
   "outputs": [
    {
     "name": "stdout",
     "output_type": "stream",
     "text": [
      "📦 Project Structure for: C:\\Projects\\ConversationalQA_Chatbot\\Chatwith session history\\VBK-BOT\n",
      "\n",
      "📄 .env\n",
      "📄 APP.py\n",
      "📄 Structure.py\n",
      "📁 db/\n",
      "    📄 __init__.py\n",
      "    📄 db_manager.py\n",
      "📁 handlers/\n",
      "    📄 __init__.py\n",
      "    📁 __pycache__/\n",
      "        📄 __init__.cpython-310.pyc\n",
      "        📄 appointment_handler.cpython-310.pyc\n",
      "        📄 generic_handler.cpython-310.pyc\n",
      "    📄 appointment_handler.py\n",
      "    📄 generic_handler.py\n",
      "📄 main.py\n",
      "📁 prompts/\n",
      "    📄 __init__.py\n",
      "    📁 __pycache__/\n",
      "        📄 __init__.cpython-310.pyc\n",
      "        📄 intent_detection_prompt.cpython-310.pyc\n",
      "    📄 conversation_prompt.py\n",
      "    📄 intent_detection_prompt.py\n",
      "📄 requirements.txt\n",
      "📄 session_manager.py\n",
      "📄 test.ipynb\n",
      "📄 utils.py\n"
     ]
    }
   ],
   "source": [
    "import os\n",
    "\n",
    "def print_folder_structure(start_path, indent=\"\"):\n",
    "    for item in sorted(os.listdir(start_path)):\n",
    "        item_path = os.path.join(start_path, item)\n",
    "        if os.path.isdir(item_path):\n",
    "            print(f\"{indent}📁 {item}/\")\n",
    "            print_folder_structure(item_path, indent + \"    \")\n",
    "        else:\n",
    "            print(f\"{indent}📄 {item}\")\n",
    "\n",
    "if __name__ == \"__main__\":\n",
    "    root = r\"C:\\Projects\\ConversationalQA_Chatbot\\Chatwith session history\\VBK-BOT\"\n",
    "    print(f\"📦 Project Structure for: {root}\\n\")\n",
    "    print_folder_structure(root)\n"
   ]
  }
 ],
 "metadata": {
  "kernelspec": {
   "display_name": "Python 3",
   "language": "python",
   "name": "python3"
  },
  "language_info": {
   "codemirror_mode": {
    "name": "ipython",
    "version": 3
   },
   "file_extension": ".py",
   "mimetype": "text/x-python",
   "name": "python",
   "nbconvert_exporter": "python",
   "pygments_lexer": "ipython3",
   "version": "3.10.0"
  }
 },
 "nbformat": 4,
 "nbformat_minor": 5
}
