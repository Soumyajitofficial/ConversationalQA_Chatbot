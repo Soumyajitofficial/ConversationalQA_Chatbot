{
 "cells": [
  {
   "cell_type": "markdown",
   "id": "b2adda60",
   "metadata": {},
   "source": [
    "# Chat with Session History"
   ]
  },
  {
   "cell_type": "code",
   "execution_count": 14,
   "id": "02aed6b8",
   "metadata": {},
   "outputs": [],
   "source": [
    "import os\n",
    "from dotenv import load_dotenv\n",
    "load_dotenv(r\"C:\\Projects\\.env\")\n",
    "from langchain_groq import ChatGroq\n",
    "from langchain_core.messages import AIMessage, HumanMessage , SystemMessage\n",
    "from langchain_community.chat_message_histories import ChatMessageHistory\n",
    "from langchain_core.chat_history import BaseChatMessageHistory\n",
    "from langchain_core.runnables.history import RunnableWithMessageHistory\n",
    "from langchain_core.prompts import ChatPromptTemplate, MessagesPlaceholder\n",
    "groq_api_key = os.getenv(\"GROQ_API_KEY\")\n",
    "llm = ChatGroq(\n",
    "    model=\"llama-3.3-70b-versatile\",\n",
    "    groq_api_key=groq_api_key\n",
    ")"
   ]
  },
  {
   "cell_type": "markdown",
   "id": "777a893e",
   "metadata": {},
   "source": [
    "### Message History\n",
    "We can use a Message History class to wrap our model and make it stateful. This will keep track of inputs and outputs of the model, and store them in some datastore. Future interactions will then load those messages and pass them into the chain as part of the input."
   ]
  },
  {
   "cell_type": "code",
   "execution_count": 15,
   "id": "a184cd96",
   "metadata": {},
   "outputs": [],
   "source": [
    "# Creating the Function that can store the session history\n",
    "store = {}\n",
    "def get_session_history(sessionID: str) -> BaseChatMessageHistory:\n",
    "    if sessionID not in store:\n",
    "        store[sessionID] = ChatMessageHistory()\n",
    "    return store[sessionID]  # <-- Return the ChatMessageHistory object!"
   ]
  },
  {
   "cell_type": "markdown",
   "id": "dc142533",
   "metadata": {},
   "source": [
    "## Formated Text"
   ]
  },
  {
   "cell_type": "code",
   "execution_count": 16,
   "id": "544b0da8",
   "metadata": {},
   "outputs": [],
   "source": [
    "# Function to display formatted messages\n",
    "from IPython.display import Markdown, display\n",
    "def display_formatted_string(response_str):\n",
    "    md = f\"**AI:** {response_str}\\n\"\n",
    "    display(Markdown(md))"
   ]
  },
  {
   "cell_type": "markdown",
   "id": "98bc18ad",
   "metadata": {},
   "source": [
    "# User Input"
   ]
  },
  {
   "cell_type": "code",
   "execution_count": 30,
   "id": "e1da42e2",
   "metadata": {},
   "outputs": [],
   "source": [
    "def intent_classifier(User_input):\n",
    "    prompt = ChatPromptTemplate.from_messages([\n",
    "    ('system', '''\n",
    "         You are Sarah, a virtual assistant Sales Development Representative for Virtuous Accounting and Bookkeeping, a professional accounting and bookkeeping firm. Your task is to understand customer intent related to scheduling free consultations, appointments, or phone calls with our accounting team. If the customer is scheduling, rescheduling, or canceling an appointment, or requesting information about our services that would require a consultation, determine their intent clearly. Pay special attention to date and time preferences for scheduling.\n",
    "        Based on the message, you will analyze and classify it into one of the following intents. \n",
    "        First, think step-by-step about each possible intent category and whether the user's message matches it:\n",
    "        1. Generic: For general inquiries that DO NOT fit into any other specific intent category. This includes:\n",
    "            - General questions about the firm's services, expertise, or capabilities\n",
    "            - Questions about office address or location\n",
    "            - Basic questions about pricing options (without specific payment details)\n",
    "            - General questions about accounting, bookkeeping, or tax services\n",
    "            - Questions about industries served or software supported\n",
    "            - Questions about countries and locations served\n",
    "            - Queries about existing appointment details or status\n",
    "            - Industry-specific service inquiries without scheduling intent\n",
    "            - Questions about processes for specific business types\n",
    "            - Requests for information about how services apply to particular industries\n",
    "            - Descriptions of accounting problems, discrepancies, or challenges in their business\n",
    "            - Questions about accounting issues or financial problems (if not explicitly identifying as an existing client)\n",
    "            - Simple affirmative responses that are NOT clearly responding to a scheduling question\n",
    "            - Indirect expressions of interest that don't explicitly request scheduling\n",
    "            - Messages with hedging language about potential future appointments\n",
    "            - Questions that imply interest in services but don't explicitly request scheduling\n",
    "            - ANY question that mentions a specific industry or business type WITHOUT explicit scheduling intent\n",
    "                Examples:\n",
    "            • \"Where is your office located?\"\n",
    "            • \"I might need to talk to someone about my books\"\n",
    "            • \"I guess I should probably figure out my tax situation\"\n",
    "            • \"Do you think someone could help with my accounting issues?\"\n",
    "            • \"I'm having accounting discrepancies in my business\"\n",
    "            • \"My store is having financial issues I need help with\"\n",
    "            • \"I need help with my bookkeeping challenges\"\n",
    "            • \"I manage a business with accounting related discrepancies\"\n",
    "            • \"What services do you offer?\"\n",
    "            • \"Do you work with QuickBooks?\"\n",
    "            • \"What industries do you specialize in?\"\n",
    "            • \"How long have you been in business?\"\n",
    "            • \"Do you offer tax filing services?\"\n",
    "            • \"When is my appointment scheduled?\"\n",
    "            • \"What time is my appointment?\"\n",
    "            • \"Do I have an appointment booked?\"\n",
    "            • \"Can you confirm my appointment details?\"\n",
    "            • \"I have a law firm, can you tell me about your services for law firms?\"\n",
    "            • \"What processes do you follow for restaurants?\"\n",
    "            • \"How do you handle accounting for e-commerce businesses?\"\n",
    "            • \"I run a small business, what services would you recommend?\"\n",
    "            • \"My company is in the healthcare industry, do you have experience with that?\"\n",
    "            • \"Can you tell me about your experience with nonprofit accounting?\"\n",
    "        2. Appointment: ONLY for scheduling time-specific interactions with the firm. This includes:\n",
    "            - Physical appointments: consultations, office visits\n",
    "            - Phone calls with specific times\n",
    "            - Affirmative responses (yes, sure, ok) when directly responding to a scheduling question\n",
    "            - The user MUST EXPLICITLY mention scheduling, booking, or setting up an appointment\n",
    "            - The user MUST EXPLICITLY mention a specific time, day, or date OR clearly request to schedule\n",
    "            Examples:\n",
    "            • \"I want to schedule a consultation for tomorrow at 3 PM.\"\n",
    "            • \"Can I book a meeting for Friday at 10 AM?\"\n",
    "            • \"Are you open on Sunday?\"\n",
    "            • \"Call me tomorrow at 2 PM.\"\n",
    "            • \"I am available at 5 PM.\"\n",
    "            • \"I would like to visit your office tomorrow.\"\n",
    "            • \"Can we schedule a call next week?\"\n",
    "            • \"I would like to schedule a call for tomorrow.\"\n",
    "            • \"I would like to schedule a call for next week.\"\n",
    "            • \"I'd like to book an appointment to discuss my law firm's needs.\"\n",
    "            • \"Can we set up a meeting to talk about my restaurant's accounting?\"\n",
    "            • \"Yes\" (in response to \"Would you like to schedule a consultation?\")\n",
    "            • \"Sure\" (in response to \"Would you like to book an appointment?\")\n",
    "            • \"That works\" (in response to a suggested appointment time)    \n",
    "        3. Handoff: ONLY for existing clients requiring:\n",
    "            • Support from their assigned team member\n",
    "            • The user MUST EXPLICITLY identify themselves as an existing client\n",
    "            • Complaint resolution\n",
    "            • Specific team member contact       \n",
    "            Examples:\n",
    "                    • \"I'm a current client and need to speak with Sarah\"\n",
    "                    • \"I'm already a client and need help with my account\"\n",
    "                    • \"Having issues with my account - need support\"\n",
    "                    • \"Existing client with a complaint\"      \n",
    "        Note: All other inquiries require scheduling an appointment.\n",
    "        I will now use a detailed Chain of Thought process to determine the correct intent: \n",
    "        Step 1: UNDERSTAND THE QUERY AND CONTEXT\n",
    "            - What is the user asking about?\n",
    "            - What specific words or phrases stand out?\n",
    "            - Is this an affirmative response to a previous question?\n",
    "            - Is this a follow-up to a previous topic or question?\n",
    "            - Is there mention of any industry, business type, or specific service?\n",
    "            - Is there any mention of time, scheduling, or appointments?\n",
    "            - Is there any indication they are an existing client?\n",
    "            - What is the emotional tone of the message (neutral, urgent, frustrated, etc.)?\n",
    "            - Is the user being direct or indirect in their communication style       \n",
    "        Step 2: ANALYZE FOR HANDOFF INTENT\n",
    "            - Does the message explicitly mention being a current/existing client?\n",
    "            - Are they asking to speak with a specific team member?\n",
    "            - Are they raising a complaint or issue with services?\n",
    "            - If YES to any of these, this suggests a [handoff] intent.\n",
    "            - If they mention accounting issues but do NOT identify as an existing client, this is NOT a handoff.       \n",
    "        Step 3: ANALYZE FOR APPOINTMENT INTENT\n",
    "            - Does the message EXPLICITLY mention scheduling, booking, or setting up an appointment?\n",
    "            - Does the message mention a specific time, day, or date for a NEW appointment?\n",
    "            - Is the user trying to schedule, reschedule, or set up a consultation, visit, or call?\n",
    "            - Is the user explicitly asking to book a meeting or consultation?\n",
    "            - If YES to any of these, this suggests an [appointment] intent.\n",
    "            - Is this a clear affirmative response to a scheduling question?\n",
    "            - IMPORTANT CHECK: If the user is asking about services for a specific industry or business type WITHOUT explicitly requesting scheduling, this is NOT an appointment intent.   \n",
    "        Step 4: ANALYZE FOR GENERIC INTENT\n",
    "            - Is this a general question about services, location, or capabilities?\n",
    "            - Is this a question about existing appointment details?\n",
    "            - Is this an industry-specific question without scheduling intent?\n",
    "            - If the query doesn't clearly fit appointment or handoff, it's likely [generic].\n",
    "            - Is the user describing accounting problems or challenges in their business?  \n",
    "        Step 5: CONTEXTUAL ANALYSIS\n",
    "            - How does this message relate to the previous conversation flow?\n",
    "            - Is the user responding to information or a question from the previous message?\n",
    "            - Is there implied intent that isn't explicitly stated? (e.g., \"I've been struggling with my books\" might imply interest in services)\n",
    "            - Are there multiple intents present in the message? If so, which is primary?\n",
    "            - How confident am I in my classification based on the available information? \n",
    "        Step 6: FINAL DECISION\n",
    "        - Based on the above analysis, which ONE intent category best matches the query?\n",
    "        - If there's ambiguity between generic and appointment, prioritize generic unless there's explicit scheduling intent.\n",
    "        - If the user mentions a specific industry or business type WITHOUT explicitly requesting to schedule or book something, this MUST be classified as [generic].\n",
    "        - If the user describes accounting problems or discrepancies WITHOUT identifying as an existing client, this MUST be classified as [generic].\n",
    "        - If the user is asking about accounting issues or financial problems in their business, this MUST be classified as [generic] unless they explicitly identify as an existing client.\n",
    "            - If the user provides a simple affirmative response (yes, sure, okay), check if it's in direct response to a scheduling question. If yes, classify as [appointment]; if not or unclear, classify as [generic].\n",
    "            - If the user expresses interest in speaking with someone or getting help, but doesn't explicitly request scheduling, classify as [generic].\n",
    "            - If the user uses indirect or hedging language about scheduling (\"I might need to talk to someone\"), classify as [generic] but note the potential interest.         \n",
    "        After completing this Chain of Thought analysis, I will classify the user query as one of these intents: [generic], [appointment], or [handoff]. \n",
    "        Note: \n",
    "        I will pay special attention to the nuances of human conversation, including indirect expressions, hedging language, emotional tone, and contextual cues that might influence the true intent behind the message.          \n",
    "        Return only the intent in brackets without any additional text.\n",
    "        '''\n",
    "     ),\n",
    "    MessagesPlaceholder(variable_name=\"messages\")\n",
    "    ])\n",
    "    chain = prompt | llm\n",
    "    with_message_history = RunnableWithMessageHistory(chain, get_session_history, input_messages_key=\"messages\")\n",
    "    config1 = {\"configurable\": {\"session_id\": \"s1\"}}\n",
    "    response = with_message_history.invoke(\n",
    "    {\"messages\": [HumanMessage(content=User_input)]},\n",
    "    config=config1\n",
    "    )\n",
    "    return display_formatted_string(response.content)"
   ]
  },
  {
   "cell_type": "code",
   "execution_count": 31,
   "id": "1622bbc0",
   "metadata": {},
   "outputs": [
    {
     "data": {
      "text/markdown": [
       "**AI:** [Generic]\n"
      ],
      "text/plain": [
       "<IPython.core.display.Markdown object>"
      ]
     },
     "metadata": {},
     "output_type": "display_data"
    }
   ],
   "source": [
    "intent_classifier(\"Hi there\")"
   ]
  },
  {
   "cell_type": "code",
   "execution_count": 32,
   "id": "d53beb52",
   "metadata": {},
   "outputs": [
    {
     "data": {
      "text/plain": [
       "[HumanMessage(content='hi', additional_kwargs={}, response_metadata={}),\n",
       " AIMessage(content=\"It's great to connect with you. I understand you've been having some concerns about managing your expenses and making sense of your financial reports. That can be really overwhelming, but don't worry, we're here to help you get a clearer picture of your finances. What's been the most challenging part for you so far?\", additional_kwargs={}, response_metadata={'token_usage': {'completion_tokens': 66, 'prompt_tokens': 453, 'total_tokens': 519, 'completion_time': 0.200015182, 'prompt_time': 0.02954668, 'queue_time': 0.051956721000000004, 'total_time': 0.229561862}, 'model_name': 'llama-3.3-70b-versatile', 'system_fingerprint': 'fp_6507bcfb6f', 'finish_reason': 'stop', 'logprobs': None}, id='run--66f4912c-7c71-4c92-adc8-01bb21db9978-0', usage_metadata={'input_tokens': 453, 'output_tokens': 66, 'total_tokens': 519}),\n",
       " HumanMessage(content='Hi there', additional_kwargs={}, response_metadata={}),\n",
       " AIMessage(content='[Generic]', additional_kwargs={}, response_metadata={'token_usage': {'completion_tokens': 4, 'prompt_tokens': 2108, 'total_tokens': 2112, 'completion_time': 0.039155979, 'prompt_time': 0.130456601, 'queue_time': 0.05411887899999998, 'total_time': 0.16961258}, 'model_name': 'llama-3.3-70b-versatile', 'system_fingerprint': 'fp_6507bcfb6f', 'finish_reason': 'stop', 'logprobs': None}, id='run--7e518154-fe12-433c-9297-fe6e7fb81a21-0', usage_metadata={'input_tokens': 2108, 'output_tokens': 4, 'total_tokens': 2112})]"
      ]
     },
     "execution_count": 32,
     "metadata": {},
     "output_type": "execute_result"
    }
   ],
   "source": [
    "store.get(\"s1\").messages"
   ]
  },
  {
   "cell_type": "code",
   "execution_count": null,
   "id": "af9303f3",
   "metadata": {},
   "outputs": [],
   "source": []
  },
  {
   "cell_type": "code",
   "execution_count": null,
   "id": "383e7b4c",
   "metadata": {},
   "outputs": [],
   "source": []
  },
  {
   "cell_type": "code",
   "execution_count": null,
   "id": "76e46710",
   "metadata": {},
   "outputs": [],
   "source": []
  },
  {
   "cell_type": "code",
   "execution_count": null,
   "id": "7cb75108",
   "metadata": {},
   "outputs": [],
   "source": []
  },
  {
   "cell_type": "code",
   "execution_count": null,
   "id": "3671ef22",
   "metadata": {},
   "outputs": [],
   "source": []
  }
 ],
 "metadata": {
  "kernelspec": {
   "display_name": "Python 3",
   "language": "python",
   "name": "python3"
  },
  "language_info": {
   "codemirror_mode": {
    "name": "ipython",
    "version": 3
   },
   "file_extension": ".py",
   "mimetype": "text/x-python",
   "name": "python",
   "nbconvert_exporter": "python",
   "pygments_lexer": "ipython3",
   "version": "3.10.0"
  }
 },
 "nbformat": 4,
 "nbformat_minor": 5
}
