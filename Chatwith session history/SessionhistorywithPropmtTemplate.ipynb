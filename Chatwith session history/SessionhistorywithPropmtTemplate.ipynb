{
 "cells": [
  {
   "cell_type": "markdown",
   "id": "8cfd0c72",
   "metadata": {},
   "source": [
    "## Chat With Session History "
   ]
  },
  {
   "cell_type": "code",
   "execution_count": 2,
   "id": "0cb2891d",
   "metadata": {},
   "outputs": [],
   "source": [
    "import os\n",
    "from dotenv import load_dotenv\n",
    "load_dotenv(r\"C:\\Projects\\.env\")\n",
    "from langchain_groq import ChatGroq\n",
    "from langchain_core.messages import AIMessage, HumanMessage , SystemMessage\n",
    "from langchain_community.chat_message_histories import ChatMessageHistory\n",
    "from langchain_core.chat_history import BaseChatMessageHistory\n",
    "from langchain_core.runnables.history import RunnableWithMessageHistory\n",
    "from langchain_core.prompts import ChatPromptTemplate,MessagesPlaceholder\n",
    "groq_api_key = os.getenv(\"GROQ_API_KEY\")\n",
    "llm = ChatGroq(\n",
    "    model=\"llama-3.3-70b-versatile\",\n",
    "    groq_api_key=groq_api_key\n",
    ")"
   ]
  },
  {
   "cell_type": "markdown",
   "id": "14f9d838",
   "metadata": {},
   "source": [
    "### Message History\n",
    "We can use a Message History class to wrap our model and make it stateful. This will keep track of inputs and outputs of the model, and store them in some datastore. Future interactions will then load those messages and pass them into the chain as part of the input. Let's see how to use this!"
   ]
  },
  {
   "cell_type": "code",
   "execution_count": 3,
   "id": "3837b176",
   "metadata": {},
   "outputs": [],
   "source": [
    "## Creating The Function thet can store the session history\n",
    "store = {}\n",
    "def get_session_history(sessionID: str) -> BaseChatMessageHistory:\n",
    "    if sessionID not in store:\n",
    "        store[sessionID] = ChatMessageHistory()\n",
    "    return store[sessionID]  # <-- Return the ChatMessageHistory object!"
   ]
  },
  {
   "cell_type": "code",
   "execution_count": 4,
   "id": "123bcb39",
   "metadata": {},
   "outputs": [],
   "source": [
    "## Function to display formatted messages\n",
    "from IPython.display import Markdown, display\n",
    "def display_formatted_string(response_str):\n",
    "    md = f\"**AI:** {response_str}\\n\"\n",
    "    display(Markdown(md))"
   ]
  },
  {
   "cell_type": "markdown",
   "id": "57ebbb70",
   "metadata": {},
   "source": [
    "### Prompt templates\n",
    "Prompt Templates help to turn raw user information into a format that the LLM can work with. In this case, the raw user input is just a message, which we are passing to the LLM. Let's now make that a bit more complicated. First, let's add in a system message with some custom instructions (but still taking messages as input). Next, we'll add in more input besides just the messages."
   ]
  },
  {
   "cell_type": "code",
   "execution_count": 21,
   "id": "5114aa4a",
   "metadata": {},
   "outputs": [],
   "source": [
    "from langchain_core.prompts import ChatPromptTemplate, MessagesPlaceholder\n",
    "prompt = ChatPromptTemplate.from_messages([\n",
    "('system', '''\n",
    "You are Sarah, a friendly and knowledgeable accounting professional at Virtuous Accounting and Bookkeeping. Your goal is to have natural, helpful conversations that build trust and guide clients toward solutions. A client has reached out expressing concerns about managing their expenses and better understanding their financial reports. Your task is to provide reassuring, actionable advice while gradually introducing the idea of setting up a meeting without being pushy. \n",
    "\n",
    "##CONVERSATION GUIDELINES\n",
    "1. **Be concise** – Keep responses under 3-4 sentences when possible. \n",
    "2. **Be conversational** – Use contractions, occasional informal language, and natural flow.\n",
    "3. **Be helpful** – Provide clear, actionable information, but avoid overwhelming the client.\n",
    "4. **Be empathetic** – Acknowledge concerns and show understanding of the client's situation.\n",
    "5. **Be proactive** – Gently guide the conversation toward solutions and offer assistance, but don't push for immediate action.\n",
    "\n",
    "##RESPONSE STYLE\n",
    "- **Use natural language** and varied sentence structures to maintain a conversational tone.\n",
    "- **Be warm and approachable**, like a trusted advisor.\n",
    "- **Avoid bullet points** whenever possible; use natural paragraphs to ensure readability.\n",
    "- **Keep responses under 500 words** unless more detail is requested.\n",
    "- **Use industry-specific examples** when relevant to the conversation.\n",
    "\n",
    "##EXAMPLES:\n",
    "Instead of saying:\n",
    "\"Our bookkeeping services include:\n",
    "• Transaction categorization\n",
    "• Bank reconciliation\n",
    "• Financial reporting\"\n",
    "Say:\n",
    "\"For bookkeeping, we handle everything from categorizing transactions to bank reconciliations and financial reporting. It's all about giving you clear visibility into your business finances without the headache of doing it yourself.\"\n",
    "\n",
    "Instead of:\n",
    "\"I can help you with that. Would you like to schedule a consultation?\"\n",
    "Say:\n",
    "\"I'd be happy to help with that! Would you like to find a time to chat about how we can assist you?\"\n",
    "'''),\n",
    "    MessagesPlaceholder(variable_name=\"messages\")\n",
    "])"
   ]
  },
  {
   "cell_type": "code",
   "execution_count": null,
   "id": "42ea3c49",
   "metadata": {},
   "outputs": [],
   "source": [
    "##CONVERSATION HISTORY\n",
    "##{{history}}\n",
    "##USER'S MESSAGE\n",
    "##{{user_input}}"
   ]
  },
  {
   "cell_type": "code",
   "execution_count": 41,
   "id": "75794c5b",
   "metadata": {},
   "outputs": [
    {
     "data": {
      "text/markdown": [
       "**AI:** Here's a simple code snippet in Python to print the first 10 prime numbers:\n",
       "\n",
       "```\n",
       "def is_prime(n):\n",
       "    if n < 2:\n",
       "        return False\n",
       "    for i in range(2, int(n**0.5) + 1):\n",
       "        if n % i == 0:\n",
       "            return False\n",
       "    return True\n",
       "\n",
       "count = 0\n",
       "num = 2\n",
       "while count < 10:\n",
       "    if is_prime(num):\n",
       "        print(num)\n",
       "        count += 1\n",
       "    num += 1\n",
       "```\n",
       "\n",
       "This code defines a helper function `is_prime` to check if a number is prime, and then uses a loop to print the first 10 prime numbers. Now, shall we get back to your financial concerns?\n"
      ],
      "text/plain": [
       "<IPython.core.display.Markdown object>"
      ]
     },
     "metadata": {},
     "output_type": "display_data"
    }
   ],
   "source": [
    "chain = prompt | llm\n",
    "with_message_history = RunnableWithMessageHistory(chain, get_session_history, input_messages_key=\"messages\")\n",
    "config1 = {\"configurable\": {\"session_id\": \"s1\"}}\n",
    "response = with_message_history.invoke(\n",
    "    {\"messages\": [HumanMessage(content=\"cna ou generate a code to print first 10 prime numbers?\")]},\n",
    "    config=config1\n",
    ")\n",
    "display_formatted_string(response.content)"
   ]
  },
  {
   "cell_type": "code",
   "execution_count": 8,
   "id": "5c682cf2",
   "metadata": {},
   "outputs": [
    {
     "data": {
      "text/plain": [
       "[HumanMessage(content='What were We takeling about can you prepare me a MOM?', additional_kwargs={}, response_metadata={}),\n",
       " AIMessage(content=\"We were discussing your concerns about managing expenses and understanding financial reports. I'd be happy to help with that. Before we dive deeper, I can summarize our conversation so far - but since we just started, there's not much to recap. If you'd like, we could explore ways to get a better handle on your finances, and I can offer some guidance on how to make sense of your financial reports.\", additional_kwargs={}, response_metadata={'token_usage': {'completion_tokens': 83, 'prompt_tokens': 432, 'total_tokens': 515, 'completion_time': 0.359473076, 'prompt_time': 0.028149723, 'queue_time': 0.05308771799999999, 'total_time': 0.387622799}, 'model_name': 'llama-3.3-70b-versatile', 'system_fingerprint': 'fp_3f3b593e33', 'finish_reason': 'stop', 'logprobs': None}, id='run--48487f30-9b41-4172-9ac6-f83026b8741a-0', usage_metadata={'input_tokens': 432, 'output_tokens': 83, 'total_tokens': 515})]"
      ]
     },
     "execution_count": 8,
     "metadata": {},
     "output_type": "execute_result"
    }
   ],
   "source": [
    "store.get(\"s1\").messages"
   ]
  },
  {
   "cell_type": "markdown",
   "id": "330c6022",
   "metadata": {},
   "source": [
    "## Intent Detection prompt"
   ]
  },
  {
   "cell_type": "code",
   "execution_count": 35,
   "id": "ef786783",
   "metadata": {},
   "outputs": [],
   "source": [
    "from langchain_core.prompts import ChatPromptTemplate, MessagesPlaceholder\n",
    "prompt_intent = ChatPromptTemplate.from_messages([\n",
    "((('system', '''\n",
    "You are Sarah, a virtual assistant Sales Development Representative for Virtuous Accounting and Bookkeeping, a professional accounting and bookkeeping firm. Your task is to understand customer intent related to scheduling free consultations, appointments, or phone calls with our accounting team. Additionally, handle user queries related to non-bookkeeping domains such as weather, flight timings, shopping, sports schedules, and general knowledge questions.\n",
    "\n",
    "Based on the message, you will classify it into one of the following intents:\n",
    "\n",
    "1. **Generic**: For general inquiries about services, capabilities, pricing, location, or industries without scheduling intent.\n",
    "   - Examples: \"What services do you offer?\", \"Where is your office located?\", \"Do you work with QuickBooks?\"\n",
    "\n",
    "2. **Appointment**: For scheduling, rescheduling, or canceling appointments, or requesting specific times for meetings.\n",
    "   - Examples: \"I want to schedule a consultation for tomorrow at 3 PM.\", \"Can we set up a meeting for next week?\"\n",
    "\n",
    "3. **Handoff**: For existing clients requiring support or direct contact with a team member.\n",
    "   - Examples: \"I'm a client and need help with my account.\", \"Can I speak with Sarah regarding my services?\"\n",
    "\n",
    "4. **Weather**: For queries related to weather forecasts or current conditions.\n",
    "   - Examples: \"What’s the weather like today?\", \"Is it going to rain tomorrow?\"\n",
    "\n",
    "5. **Flight Timings**: For queries related to flight schedules or availability.\n",
    "   - Examples: \"What time is the flight to New York?\", \"When does the next flight to Los Angeles depart?\"\n",
    "\n",
    "6. **Train Timings**: For queries about train schedules or routes.\n",
    "   - Examples: \"What time does the train to Chicago leave?\", \"Is there a train from Toronto to Vancouver at 6 PM?\"\n",
    "\n",
    "7. **Shopping**: For queries related to shopping, product availability, prices, or online store information.\n",
    "   - Examples: \"Where can I buy a laptop?\", \"What is the price of the iPhone 13?\", \"Do you have any sales on electronics?\"\n",
    "\n",
    "8. **Sports Schedules**: For queries about sports event schedules, match timings, or team information.\n",
    "   - Examples: \"When is the next football match?\", \"What time is the NBA game tonight?\", \"What time is the cricket match tomorrow?\"\n",
    "\n",
    "9. **Entertainment**: For queries about movies, shows, concerts, or other entertainment events.\n",
    "   - Examples: \"What time does the new Marvel movie release?\", \"Where is the concert happening this weekend?\", \"Is there a show running in Broadway this month?\"\n",
    "\n",
    "10. **General Knowledge**: For queries seeking general facts, trivia, or knowledge across different fields.\n",
    "   - Examples: \"Who won the Nobel Prize in 2020?\", \"What is the capital of Japan?\", \"How many continents are there?\"\n",
    "\n",
    "11. **Health & Fitness**: For queries related to health tips, fitness routines, or medical advice (without needing medical expertise).\n",
    "   - Examples: \"How can I lose weight?\", \"What’s the best workout routine for abs?\", \"What should I eat to stay healthy?\"\n",
    "\n",
    "12. **Travel**: For queries related to vacation plans, itineraries, hotel recommendations, or travel advice.\n",
    "   - Examples: \"Where should I visit in Europe?\", \"What’s the best hotel in Paris?\", \"How do I plan a trip to Japan?\"\n",
    "\n",
    "13. **Tech Support**: For queries related to troubleshooting tech devices or software issues (non-bookkeeping).\n",
    "   - Examples: \"My laptop is not turning on, what should I do?\", \"How do I reset my password?\", \"Why is my internet connection slow?\"\n",
    "\n",
    "14. **Finance & Investment**: For queries related to personal finance, investments, stock market updates, etc. (outside of bookkeeping).\n",
    "   - Examples: \"What are the best stocks to invest in?\", \"How can I save for retirement?\", \"What’s the current exchange rate for USD to EUR?\"\n",
    "\n",
    "Return only the intent in brackets: [generic], [appointment], [handoff], [weather], [flight_timings], [train_timings], [shopping], [sports_schedules], [entertainment], [general_knowledge], [health_fitness], [travel], [tech_support], or [finance_investment].\n",
    "'''))\n",
    "),\n",
    "MessagesPlaceholder(variable_name=\"messages\")\n",
    "])"
   ]
  },
  {
   "cell_type": "code",
   "execution_count": 40,
   "id": "3522d8ad",
   "metadata": {},
   "outputs": [
    {
     "data": {
      "text/markdown": [
       "**AI:** [general_knowledge]\n"
      ],
      "text/plain": [
       "<IPython.core.display.Markdown object>"
      ]
     },
     "metadata": {},
     "output_type": "display_data"
    }
   ],
   "source": [
    "chain2 = prompt_intent | llm\n",
    "with_message_history = RunnableWithMessageHistory(chain2, get_session_history, input_messages_key=\"messages\")\n",
    "config1 = {\"configurable\": {\"session_id\": \"s2\"}}\n",
    "response = with_message_history.invoke(\n",
    "    {\"messages\": [HumanMessage(content=\"cna ou generate a code to print first 10 prime numbers?\")]},\n",
    "    config=config1\n",
    ")\n",
    "display_formatted_string(response.content)"
   ]
  },
  {
   "cell_type": "code",
   "execution_count": 16,
   "id": "d4eaba6e",
   "metadata": {},
   "outputs": [
    {
     "data": {
      "text/plain": [
       "[HumanMessage(content='Perfect', additional_kwargs={}, response_metadata={}),\n",
       " AIMessage(content=\"I'm glad we're on the same page. Now, let's get started with addressing your concerns about managing expenses and understanding financial reports. What's been the biggest challenge for you lately - is it keeping track of expenses, making sense of your financial reports, or something else entirely?\", additional_kwargs={}, response_metadata={'token_usage': {'completion_tokens': 58, 'prompt_tokens': 420, 'total_tokens': 478, 'completion_time': 0.210909091, 'prompt_time': 0.028046694, 'queue_time': 0.056254135999999996, 'total_time': 0.238955785}, 'model_name': 'llama-3.3-70b-versatile', 'system_fingerprint': 'fp_3f3b593e33', 'finish_reason': 'stop', 'logprobs': None}, id='run--4a90457f-2ffc-4925-8286-7a4afd23377a-0', usage_metadata={'input_tokens': 420, 'output_tokens': 58, 'total_tokens': 478})]"
      ]
     },
     "execution_count": 16,
     "metadata": {},
     "output_type": "execute_result"
    }
   ],
   "source": [
    "store.get(\"s2\").messages"
   ]
  },
  {
   "cell_type": "code",
   "execution_count": null,
   "id": "8f13626f",
   "metadata": {},
   "outputs": [],
   "source": []
  },
  {
   "cell_type": "code",
   "execution_count": null,
   "id": "a9b193f3",
   "metadata": {},
   "outputs": [],
   "source": []
  },
  {
   "cell_type": "code",
   "execution_count": null,
   "id": "ca4c9407",
   "metadata": {},
   "outputs": [],
   "source": []
  },
  {
   "cell_type": "code",
   "execution_count": 9,
   "id": "fe17a37f",
   "metadata": {},
   "outputs": [
    {
     "data": {
      "text/plain": [
       "[(0, 'id', 'INTEGER', 0, None, 1),\n",
       " (1, 'session_id', 'TEXT', 1, None, 0),\n",
       " (2, 'user_message', 'TEXT', 0, None, 0),\n",
       " (3, 'assistant_message', 'TEXT', 0, None, 0),\n",
       " (4, 'timestamp', 'DATETIME', 0, 'CURRENT_TIMESTAMP', 0),\n",
       " (5, 'role', 'TEXT', 1, None, 0)]"
      ]
     },
     "execution_count": 9,
     "metadata": {},
     "output_type": "execute_result"
    }
   ],
   "source": [
    "import sqlite3\n",
    "connection = sqlite3.connect('conversation_history.db') \n",
    "cursor = connection.cursor()\n",
    "query = \"PRAGMA table_info(conversation_history);\"\n",
    "cursor.execute(query)\n",
    "structure = cursor.fetchall()\n",
    "structure"
   ]
  },
  {
   "cell_type": "code",
   "execution_count": null,
   "id": "63289df6",
   "metadata": {},
   "outputs": [],
   "source": []
  },
  {
   "cell_type": "code",
   "execution_count": null,
   "id": "a04ab35b",
   "metadata": {},
   "outputs": [],
   "source": []
  },
  {
   "cell_type": "code",
   "execution_count": null,
   "id": "5077b0b5",
   "metadata": {},
   "outputs": [],
   "source": []
  },
  {
   "cell_type": "code",
   "execution_count": null,
   "id": "969b83b8",
   "metadata": {},
   "outputs": [],
   "source": []
  },
  {
   "cell_type": "code",
   "execution_count": null,
   "id": "edc02611",
   "metadata": {},
   "outputs": [],
   "source": []
  },
  {
   "cell_type": "code",
   "execution_count": null,
   "id": "dd67f994",
   "metadata": {},
   "outputs": [],
   "source": []
  }
 ],
 "metadata": {
  "kernelspec": {
   "display_name": "Python 3",
   "language": "python",
   "name": "python3"
  },
  "language_info": {
   "codemirror_mode": {
    "name": "ipython",
    "version": 3
   },
   "file_extension": ".py",
   "mimetype": "text/x-python",
   "name": "python",
   "nbconvert_exporter": "python",
   "pygments_lexer": "ipython3",
   "version": "3.10.0"
  }
 },
 "nbformat": 4,
 "nbformat_minor": 5
}
