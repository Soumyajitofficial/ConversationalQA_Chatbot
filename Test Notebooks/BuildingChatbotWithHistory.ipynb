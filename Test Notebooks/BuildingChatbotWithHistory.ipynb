{
 "cells": [
  {
   "cell_type": "markdown",
   "id": "599d41b5",
   "metadata": {},
   "source": [
    "# Building Chatbot with Conversation memeory"
   ]
  },
  {
   "cell_type": "code",
   "execution_count": 1,
   "id": "1892a697",
   "metadata": {},
   "outputs": [
    {
     "data": {
      "text/plain": [
       "True"
      ]
     },
     "execution_count": 1,
     "metadata": {},
     "output_type": "execute_result"
    }
   ],
   "source": [
    "import os\n",
    "from dotenv import load_dotenv\n",
    "load_dotenv(\"E:/GENAIPROJECTS/ConversationalQA_Chatbot/.env\")"
   ]
  },
  {
   "cell_type": "code",
   "execution_count": 2,
   "id": "285aea3f",
   "metadata": {},
   "outputs": [],
   "source": [
    "groq_api_key = os.getenv(\"GROQ_API_KEY_2\")"
   ]
  },
  {
   "cell_type": "code",
   "execution_count": 4,
   "id": "26173995",
   "metadata": {},
   "outputs": [
    {
     "name": "stderr",
     "output_type": "stream",
     "text": [
      "e:\\GENAIPROJECTS\\ConversationalQA_Chatbot\\venv\\lib\\site-packages\\langchain_groq\\chat_models.py:364: UserWarning: WARNING! top_p is not default parameter.\n",
      "                    top_p was transferred to model_kwargs.\n",
      "                    Please confirm that top_p is what you intended.\n",
      "  warnings.warn(\n"
     ]
    }
   ],
   "source": [
    "from langchain_groq import ChatGroq\n",
    "\n",
    "llm = ChatGroq(\n",
    "    model=\"meta-llama/llama-4-scout-17b-16e-instruct\",  # Model name (required)\n",
    "    groq_api_key= groq_api_key,        # Your Groq API key (optional if set in env)\n",
    "    temperature=0.7,          # Sampling temperature (float, optional)\n",
    "    max_tokens= 500,          # Maximum tokens in response (int, optional)\n",
    "    top_p=1.0,                # Nucleus sampling (float, optional)\n",
    "    stop=None,                # Stop sequences (list or str, optional)\n",
    "    streaming=False,          # Enable streaming responses (bool, optional)\n",
    "    timeout=None,             # Request timeout (float or int, optional)\n",
    "    base_url=None,            # Custom Groq API endpoint (str, optional)\n",
    "    # ...other keyword arguments as supported by the latest version\n",
    ")"
   ]
  },
  {
   "cell_type": "code",
   "execution_count": 8,
   "id": "cbf70ca9",
   "metadata": {},
   "outputs": [
    {
     "data": {
      "text/plain": [
       "'Nice to meet you, John!\\n\\nAccording to what you told me, your profession is a **Software Engineer**.'"
      ]
     },
     "execution_count": 8,
     "metadata": {},
     "output_type": "execute_result"
    }
   ],
   "source": [
    "from langchain_core.messages import HumanMessage\n",
    "llm.invoke(\n",
    "    [HumanMessage(content=\"Myname is John and I am a software engineer. What is my profession?\")],\n",
    ").content"
   ]
  },
  {
   "cell_type": "code",
   "execution_count": 11,
   "id": "a5a5c206",
   "metadata": {},
   "outputs": [
    {
     "data": {
      "text/plain": [
       "'Your name is **John**.'"
      ]
     },
     "execution_count": 11,
     "metadata": {},
     "output_type": "execute_result"
    }
   ],
   "source": [
    "from langchain_core.messages import AIMessage \n",
    "llm.invoke(\n",
    "    [\n",
    "        HumanMessage(content=\"Myname is John and I am a software engineer. What is my profession?\"),\n",
    "        AIMessage(content='Nice to meet you, John!\\n\\nAccording to what you told me, your profession is a **Software Engineer**.'),\n",
    "        HumanMessage(content=\"What is my name?\")\n",
    "    ]\n",
    ").content"
   ]
  },
  {
   "cell_type": "code",
   "execution_count": null,
   "id": "d6e1bf70",
   "metadata": {},
   "outputs": [],
   "source": [
    "## Message History\n",
    "from langchain_community.chat_message_histories import ChatMessageHistory\n",
    "from"
   ]
  },
  {
   "cell_type": "code",
   "execution_count": null,
   "id": "a25a3e3d",
   "metadata": {},
   "outputs": [],
   "source": []
  },
  {
   "cell_type": "code",
   "execution_count": null,
   "metadata": {},
   "outputs": [],
   "source": []
  },
  {
   "cell_type": "code",
   "execution_count": null,
   "metadata": {},
   "outputs": [],
   "source": []
  },
  {
   "cell_type": "code",
   "execution_count": null,
   "id": "2fb66b51",
   "metadata": {},
   "outputs": [],
   "source": []
  },
  {
   "cell_type": "code",
   "execution_count": null,
   "id": "25d03c0a",
   "metadata": {},
   "outputs": [],
   "source": []
  },
  {
   "cell_type": "code",
   "execution_count": null,
   "id": "4c8dd963",
   "metadata": {},
   "outputs": [],
   "source": []
  }
 ],
 "metadata": {
  "kernelspec": {
   "display_name": "Python 3",
   "language": "python",
   "name": "python3"
  },
  "language_info": {
   "codemirror_mode": {
    "name": "ipython",
    "version": 3
   },
   "file_extension": ".py",
   "mimetype": "text/x-python",
   "name": "python",
   "nbconvert_exporter": "python",
   "pygments_lexer": "ipython3",
   "version": "3.10.0"
  }
 },
 "nbformat": 4,
 "nbformat_minor": 5
}
