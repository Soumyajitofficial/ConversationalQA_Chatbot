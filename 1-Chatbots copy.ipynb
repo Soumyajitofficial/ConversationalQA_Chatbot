{
 "cells": [
  {
   "cell_type": "markdown",
   "id": "b58c5dd5",
   "metadata": {},
   "source": [
    "## Building A Chatbot\n",
    "We'll go over an example of how to design and implement an LLM-powered chatbot. This chatbot will be able to have a conversation and remember previous interactions.\n",
    "\n",
    "Note that this chatbot that we build will only use the language model to have a conversation. There are several other related concepts that you may be looking for:\n",
    "\n",
    "- Conversational RAG: Enable a chatbot experience over an external source of data\n",
    "- Agents: Build a chatbot that can take actions\n",
    "\n",
    "This will cover the basics which will be helpful for those two more advanced topics."
   ]
  },
  {
   "cell_type": "code",
   "execution_count": 55,
   "id": "97b9c4e3",
   "metadata": {},
   "outputs": [],
   "source": [
    "import os\n",
    "from dotenv import load_dotenv\n",
    "load_dotenv(r\"C:\\Projects\\.env\")\n",
    "from langchain_groq import ChatGroq\n",
    "from langchain_core.messages import AIMessage, HumanMessage , SystemMessage\n",
    "from langchain_community.chat_message_histories import ChatMessageHistory\n",
    "from langchain_core.chat_history import BaseChatMessageHistory\n",
    "from langchain_core.runnables.history import RunnableWithMessageHistory"
   ]
  },
  {
   "cell_type": "code",
   "execution_count": 56,
   "id": "2fa72c3a",
   "metadata": {},
   "outputs": [],
   "source": [
    "groq_api_key = os.getenv(\"GROQ_API_KEY\")"
   ]
  },
  {
   "cell_type": "code",
   "execution_count": 57,
   "id": "41b05f02",
   "metadata": {},
   "outputs": [],
   "source": [
    "llm = ChatGroq(model=\"llama-3.3-70b-versatile\",groq_api_key=groq_api_key)\n",
    "response = llm.invoke(\"I am Soumo working as a product analyst in source desk\")\n"
   ]
  },
  {
   "cell_type": "code",
   "execution_count": 58,
   "id": "d75f6584",
   "metadata": {},
   "outputs": [
    {
     "data": {
      "text/plain": [
       "AIMessage(content='Hello Soumo, nice to meet you. It sounds like you have an interesting role as a Product Analyst at Source Desk. What specific aspects of product analysis do you focus on, and what are some of the most challenging or rewarding parts of your job?', additional_kwargs={}, response_metadata={'token_usage': {'completion_tokens': 52, 'prompt_tokens': 47, 'total_tokens': 99, 'completion_time': 0.189090909, 'prompt_time': 0.002107768, 'queue_time': 0.057032799999999995, 'total_time': 0.191198677}, 'model_name': 'llama-3.3-70b-versatile', 'system_fingerprint': 'fp_3f3b593e33', 'finish_reason': 'stop', 'logprobs': None}, id='run--baf010a7-4b28-4cb5-8ff2-074cb161b34e-0', usage_metadata={'input_tokens': 47, 'output_tokens': 52, 'total_tokens': 99})"
      ]
     },
     "execution_count": 58,
     "metadata": {},
     "output_type": "execute_result"
    }
   ],
   "source": [
    "response"
   ]
  },
  {
   "cell_type": "code",
   "execution_count": 59,
   "id": "7505ce25",
   "metadata": {},
   "outputs": [
    {
     "data": {
      "text/plain": [
       "'Your name is Soumo, and you work as a product analyst at Source Desk.'"
      ]
     },
     "execution_count": 59,
     "metadata": {},
     "output_type": "execute_result"
    }
   ],
   "source": [
    "llm.invoke(    [\n",
    "        HumanMessage(content=\"I am Soumo working as a product analyst in source desk\"),\n",
    "        AIMessage(content=\"Hello Soumo, it's nice to meet you. As a product analyst at Source Desk, you must be working on analyzing data to inform product decisions and drive business growth. What specific areas of product analysis do you focus on, such as customer behavior, market trends, or product optimization? I'm here to help and chat about your work if you'd like.\"),\n",
    "        HumanMessage(content=\"What is My Name ?\")\n",
    "    ]\n",
    ").content"
   ]
  },
  {
   "cell_type": "markdown",
   "id": "14d7edcc",
   "metadata": {},
   "source": [
    "### Message History\n",
    "We can use a Message History class to wrap our model and make it stateful. This will keep track of inputs and outputs of the model, and store them in some datastore. Future interactions will then load those messages and pass them into the chain as part of the input. Let's see how to use this!\n"
   ]
  },
  {
   "cell_type": "code",
   "execution_count": 63,
   "id": "6dd36b8d",
   "metadata": {},
   "outputs": [],
   "source": [
    "store = {}\n",
    "def get_session_history(session_id: str)-> BaseChatMessageHistory: ## functio will be created to get the session history and \n",
    "    if session_id not in store:\n",
    "        store[session_id] = ChatMessageHistory()\n",
    "    return store[session_id]\n",
    "config1 = {\"configurable\": {\"session_id\":\"s1\"}}\n",
    "config2 = {\"configurable\": {\"session_id\":\"s2\"}}\n",
    "with_message_history = RunnableWithMessageHistory(llm,get_session_history)"
   ]
  },
  {
   "cell_type": "code",
   "execution_count": 66,
   "id": "62ac98ad",
   "metadata": {},
   "outputs": [
    {
     "data": {
      "text/plain": [
       "\"You didn't mention the location of Source Desk, so I don't have that information. As a product analyst at Source Desk, you might know the location, but I don't have any details about it. Can you tell me where Source Desk is located?\""
      ]
     },
     "execution_count": 66,
     "metadata": {},
     "output_type": "execute_result"
    }
   ],
   "source": [
    "config1 = {\"configurable\": {\"session_id\":\"s1\"}}\n",
    "with_message_history.invoke(\n",
    "\n",
    "    [HumanMessage(content=\"I am Soumo working as a product analyst in source desk\"),\n",
    "     AIMessage(content=\"Hello Soumo, it's nice to meet you. As a product analyst at Source Desk, you must be working on analyzing data to inform product decisions and drive business growth. What specific areas of product analysis do you focus on, such as customer behavior, market trends, or product optimization? I'm here to help and chat about your work if you'd like.\"),\n",
    "     AIMessage(content=\" \\n\\nAlso, I can offer some general information about product analysis if you're interested. Or we could discuss topics like data analysis, product development, or industry trends. Just let me know what's on your mind!\"),\n",
    "     HumanMessage(content=\"What is My Name ?\"),\n",
    "     AIMessage(content=\"Your name is Soumo, and you work as a product analyst at Source Desk.\"),\n",
    "     HumanMessage(content=\"Where is SourceDesk located ?\")],\n",
    "    config=config1\n",
    ").content"
   ]
  },
  {
   "cell_type": "code",
   "execution_count": 104,
   "id": "7f7ac2d2",
   "metadata": {},
   "outputs": [
    {
     "data": {
      "text/plain": [
       "['s1', 's2']"
      ]
     },
     "execution_count": 104,
     "metadata": {},
     "output_type": "execute_result"
    }
   ],
   "source": [
    "list(store.keys())"
   ]
  },
  {
   "cell_type": "code",
   "execution_count": 107,
   "id": "bc343280",
   "metadata": {},
   "outputs": [
    {
     "data": {
      "text/plain": [
       "\"As a Product Analyst, you already have a strong foundation in analysis and problem-solving. To switch to a Data Analyst role, you'll need to build on your existing skills and acquire some new ones. Here's a suggested roadmap to help you make the transition:\\n\\n**Short-term goals (3-6 months)**\\n\\n1. **Brush up on statistical concepts**:\\n\\t* Review probability, statistics, and data modeling concepts.\\n\\t* Study resources: Khan Academy, Coursera, edX, or DataCamp.\\n2. **Learn data visualization tools**:\\n\\t* Familiarize yourself with Tableau, Power BI, or D3.js.\\n\\t* Practice creating interactive dashboards and visualizations.\\n3. **Improve your SQL skills**:\\n\\t* Learn advanced SQL concepts, such as subqueries, joins, and aggregations.\\n\\t* Practice writing efficient queries and optimizing database performance.\\n4. **Get familiar with data manipulation and analysis libraries**:\\n\\t* Learn Python libraries like Pandas, NumPy, and Matplotlib.\\n\\t* Practice data cleaning, filtering, and grouping using these libraries.\\n\\n**Mid-term goals (6-12 months)**\\n\\n1. **Learn machine learning fundamentals**:\\n\\t* Study supervised and unsupervised learning concepts.\\n\\t* Learn popular algorithms like linear regression, decision trees, and clustering.\\n2. **Explore data science tools and technologies**:\\n\\t* Learn about big data technologies like Hadoop, Spark, or NoSQL databases.\\n\\t* Familiarize yourself with cloud-based data platforms like AWS, GCP, or Azure.\\n3. **Develop data storytelling skills**:\\n\\t* Learn to communicate complex data insights effectively.\\n\\t* Practice creating reports, presentations, and dashboards that tell a story.\\n4. **Participate in data analysis projects**:\\n\\t* Join online communities like Kaggle, Reddit (r/dataanalysis), or Data Science subreddit.\\n\\t* Participate in hackathons or data science competitions to practice your skills.\\n\\n**Long-term goals (1-2 years)**\\n\\n1. **Pursue a certification in data analysis**:\\n\\t* Consider certifications like Google Data Analytics, Microsoft Certified: Data Analyst, or Certified Data Analyst (CDA).\\n2. **Learn advanced data analysis techniques**:\\n\\t* Study topics like time series analysis, forecasting, or text analysis.\\n\\t* Learn to work with unstructured data, such as images, audio, or text.\\n3. **Stay up-to-date with industry trends and developments**:\\n\\t* Attend conferences, meetups, or webinars to learn about new tools and technologies.\\n\\t* Network with professionals in the field to stay informed about best practices.\\n4. **Consider a graduate degree in data science**:\\n\\t* If you're interested in advanced research or leadership roles, a master's degree in data science might be beneficial.\\n\\n**Additional tips**\\n\\n1. **Build a strong portfolio**: Showcase your data analysis projects and accomplishments on platforms like GitHub or Kaggle.\\n2. **Network with professionals**: Attend industry events, join online communities, and connect with data analysts on LinkedIn.\\n3. **Stay curious and keep learning**: The field of data analysis is constantly evolving, so it's essential to stay updated with new tools, technologies, and techniques.\\n\\nRemember, switching to a Data Analyst role takes time, effort, and dedication. Focus on building your skills, networking, and gaining practical experience to increase your chances of success. Good luck!\""
      ]
     },
     "execution_count": 107,
     "metadata": {},
     "output_type": "execute_result"
    }
   ],
   "source": [
    "config2 = {\"configurable\": {\"session_id\":\"s2\"}}\n",
    "with_message_history.invoke(\n",
    "\n",
    "    [\n",
    "     HumanMessage(content=\"I am krish working as a product analyst in source desk\"),\n",
    "     AIMessage(content=\"Hello Krish, nice to meet you. It sounds like you have an interesting role as a Product Analyst at Source Desk. What specific aspects of product analysis do you focus on, and what are some of the most challenging or rewarding parts of your job?\"),\n",
    "     HumanMessage(content=\"Source desk is an IT firm, located in kolkata\"),\n",
    "     AIMessage(content=\"Hello Krish, nice to meet you. So, you work as a Product Analyst at Source Desk, which is an IT firm. That's a great industry to be in, with always evolving technologies and innovations.\\n\\nAs a Product Analyst, I assume you work closely with cross-functional teams to analyze data, identify trends, and inform product decisions. What kind of products or services does Source Desk offer, and how do you contribute to their development and growth?\"),\n",
    "     HumanMessage(content=\"whtat is source desk\"),\n",
    "     AIMessage(content=\"Unfortunately, I don't have any specific information about Source Desk, as it seems to be a private company. However, based on our conversation, I can make some general assumptions:\\n\\n* Source Desk is an IT firm, which means it likely provides information technology-related services or products.\\n* It is located in Kolkata, India, which suggests it may be a regional or national company with a presence in Eastern India.\\n* As a Product Analyst, you likely work on analyzing data, identifying trends, and informing product decisions to help drive the company's growth and success.\\n\\nIf you'd like to share more about Source Desk, I'd be happy to learn more! What kind of products or services does the company offer, and what's your role like as a Product Analyst?\"),\n",
    "     HumanMessage(content=\"Sggest me a proper road map to Swith my profile to data anlyst\")\n",
    "    ],\n",
    "    config=config2\n",
    ").content"
   ]
  },
  {
   "cell_type": "code",
   "execution_count": 108,
   "id": "7ec649d5",
   "metadata": {},
   "outputs": [
    {
     "data": {
      "text/plain": [
       "dict_keys(['s1', 's2'])"
      ]
     },
     "execution_count": 108,
     "metadata": {},
     "output_type": "execute_result"
    }
   ],
   "source": [
    "store.keys()"
   ]
  },
  {
   "cell_type": "code",
   "execution_count": 109,
   "id": "de728a55",
   "metadata": {},
   "outputs": [
    {
     "name": "stdout",
     "output_type": "stream",
     "text": [
      "s1\n",
      "Type: human Content: I am Soumo working as a product analyst in source desk\n",
      "Type: ai Content: Hello Soumo, it's nice to meet you. As a product analyst at Source Desk, you must be working on analyzing data to inform product decisions and drive business growth. What specific areas of product analysis do you focus on, such as customer behavior, market trends, or product optimization? I'm here to help and chat about your work if you'd like.\n",
      "Type: ai Content:  \n",
      "\n",
      "Also, I can offer some general information about product analysis if you're interested. Or we could discuss topics like data analysis, product development, or industry trends. Just let me know what's on your mind!\n",
      "Type: human Content: What is My Name ?\n",
      "Type: ai Content: Your name is Soumo, and you work as a product analyst at Source Desk.\n",
      "Type: human Content: I am Soumo working as a product analyst in source desk\n",
      "Type: ai Content: Hello Soumo, it's nice to meet you. As a product analyst at Source Desk, you must be working on analyzing data to inform product decisions and drive business growth. What specific areas of product analysis do you focus on, such as customer behavior, market trends, or product optimization? I'm here to help and chat about your work if you'd like.\n",
      "Type: ai Content:  \n",
      "\n",
      "Also, I can offer some general information about product analysis if you're interested. Or we could discuss topics like data analysis, product development, or industry trends. Just let me know what's on your mind!\n",
      "Type: human Content: What is My Name ?\n",
      "Type: ai Content: Your name is Soumo, and you work as a product analyst at Source Desk.\n",
      "Type: human Content: Where is SourceDesk located ?\n",
      "Type: ai Content: You didn't mention the location of Source Desk, so I don't have that information. As a product analyst at Source Desk, you might know the location, but I don't have any details about it. Can you tell me where Source Desk is located?\n",
      "s2\n",
      "Type: human Content: I am krish working as a product analyst in source desk\n",
      "Type: ai Content: Hello Krish, nice to meet you. It sounds like you have an interesting role as a Product Analyst at Source Desk. What specific aspects of product analysis do you focus on, and what are some of the most challenging or rewarding parts of your job?\n",
      "Type: human Content: I am krish working as a product analyst in source desk\n",
      "Type: ai Content: Hello Krish, nice to meet you. It sounds like you have an interesting role as a Product Analyst at Source Desk. What specific aspects of product analysis do you focus on, and what are some of the most challenging or rewarding parts of your job?\n",
      "Type: human Content: Source desk is an IT firm\n",
      "Type: ai Content: Hello Krish, nice to meet you. So, you work as a Product Analyst at Source Desk, which is an IT firm. That's a great industry to be in, with always evolving technologies and innovations.\n",
      "\n",
      "As a Product Analyst, I assume you work closely with cross-functional teams to analyze data, identify trends, and inform product decisions. What kind of products or services does Source Desk offer, and how do you contribute to their development and growth?\n",
      "Type: human Content: I am krish working as a product analyst in source desk\n",
      "Type: ai Content: Hello Krish, nice to meet you. It sounds like you have an interesting role as a Product Analyst at Source Desk. What specific aspects of product analysis do you focus on, and what are some of the most challenging or rewarding parts of your job?\n",
      "Type: human Content: Source desk is an IT firm, located in kolkata\n",
      "Type: ai Content: Hello Krish, nice to meet you. So, you work as a Product Analyst at Source Desk, which is an IT firm. That's a great industry to be in, with always evolving technologies and innovations.\n",
      "\n",
      "As a Product Analyst, I assume you work closely with cross-functional teams to analyze data, identify trends, and inform product decisions. What kind of products or services does Source Desk offer, and how do you contribute to their development and growth?\n",
      "Type: human Content: whtat is source desk\n",
      "Type: ai Content: Unfortunately, I don't have any specific information about Source Desk, as it seems to be a private company. However, based on our conversation, I can make some general assumptions:\n",
      "\n",
      "* Source Desk is an IT firm, which means it likely provides information technology-related services or products.\n",
      "* It is located in Kolkata, India, which suggests it may be a regional or national company with a presence in Eastern India.\n",
      "* As a Product Analyst, you likely work on analyzing data, identifying trends, and informing product decisions to help drive the company's growth and success.\n",
      "\n",
      "If you'd like to share more about Source Desk, I'd be happy to learn more! What kind of products or services does the company offer, and what's your role like as a Product Analyst?\n",
      "Type: human Content: I am krish working as a product analyst in source desk\n",
      "Type: ai Content: Hello Krish, nice to meet you. It sounds like you have an interesting role as a Product Analyst at Source Desk. What specific aspects of product analysis do you focus on, and what are some of the most challenging or rewarding parts of your job?\n",
      "Type: human Content: Source desk is an IT firm, located in kolkata\n",
      "Type: ai Content: Hello Krish, nice to meet you. So, you work as a Product Analyst at Source Desk, which is an IT firm. That's a great industry to be in, with always evolving technologies and innovations.\n",
      "\n",
      "As a Product Analyst, I assume you work closely with cross-functional teams to analyze data, identify trends, and inform product decisions. What kind of products or services does Source Desk offer, and how do you contribute to their development and growth?\n",
      "Type: human Content: whtat is source desk\n",
      "Type: ai Content: Unfortunately, I don't have any specific information about Source Desk, as it seems to be a private company. However, based on our conversation, I can make some general assumptions:\n",
      "\n",
      "* Source Desk is an IT firm, which means it likely provides information technology-related services or products.\n",
      "* It is located in Kolkata, India, which suggests it may be a regional or national company with a presence in Eastern India.\n",
      "* As a Product Analyst, you likely work on analyzing data, identifying trends, and informing product decisions to help drive the company's growth and success.\n",
      "\n",
      "If you'd like to share more about Source Desk, I'd be happy to learn more! What kind of products or services does the company offer, and what's your role like as a Product Analyst?\n",
      "Type: human Content: Sggest me a proper road map to Swith my profile to data anlyst\n",
      "Type: ai Content: As a Product Analyst, you already have a strong foundation in analysis and problem-solving. To switch to a Data Analyst role, you'll need to build on your existing skills and acquire some new ones. Here's a suggested roadmap to help you make the transition:\n",
      "\n",
      "**Short-term goals (3-6 months)**\n",
      "\n",
      "1. **Brush up on statistical concepts**:\n",
      "\t* Review probability, statistics, and data modeling concepts.\n",
      "\t* Study resources: Khan Academy, Coursera, edX, or DataCamp.\n",
      "2. **Learn data visualization tools**:\n",
      "\t* Familiarize yourself with Tableau, Power BI, or D3.js.\n",
      "\t* Practice creating interactive dashboards and visualizations.\n",
      "3. **Improve your SQL skills**:\n",
      "\t* Learn advanced SQL concepts, such as subqueries, joins, and aggregations.\n",
      "\t* Practice writing efficient queries and optimizing database performance.\n",
      "4. **Get familiar with data manipulation and analysis libraries**:\n",
      "\t* Learn Python libraries like Pandas, NumPy, and Matplotlib.\n",
      "\t* Practice data cleaning, filtering, and grouping using these libraries.\n",
      "\n",
      "**Mid-term goals (6-12 months)**\n",
      "\n",
      "1. **Learn machine learning fundamentals**:\n",
      "\t* Study supervised and unsupervised learning concepts.\n",
      "\t* Learn popular algorithms like linear regression, decision trees, and clustering.\n",
      "2. **Explore data science tools and technologies**:\n",
      "\t* Learn about big data technologies like Hadoop, Spark, or NoSQL databases.\n",
      "\t* Familiarize yourself with cloud-based data platforms like AWS, GCP, or Azure.\n",
      "3. **Develop data storytelling skills**:\n",
      "\t* Learn to communicate complex data insights effectively.\n",
      "\t* Practice creating reports, presentations, and dashboards that tell a story.\n",
      "4. **Participate in data analysis projects**:\n",
      "\t* Join online communities like Kaggle, Reddit (r/dataanalysis), or Data Science subreddit.\n",
      "\t* Participate in hackathons or data science competitions to practice your skills.\n",
      "\n",
      "**Long-term goals (1-2 years)**\n",
      "\n",
      "1. **Pursue a certification in data analysis**:\n",
      "\t* Consider certifications like Google Data Analytics, Microsoft Certified: Data Analyst, or Certified Data Analyst (CDA).\n",
      "2. **Learn advanced data analysis techniques**:\n",
      "\t* Study topics like time series analysis, forecasting, or text analysis.\n",
      "\t* Learn to work with unstructured data, such as images, audio, or text.\n",
      "3. **Stay up-to-date with industry trends and developments**:\n",
      "\t* Attend conferences, meetups, or webinars to learn about new tools and technologies.\n",
      "\t* Network with professionals in the field to stay informed about best practices.\n",
      "4. **Consider a graduate degree in data science**:\n",
      "\t* If you're interested in advanced research or leadership roles, a master's degree in data science might be beneficial.\n",
      "\n",
      "**Additional tips**\n",
      "\n",
      "1. **Build a strong portfolio**: Showcase your data analysis projects and accomplishments on platforms like GitHub or Kaggle.\n",
      "2. **Network with professionals**: Attend industry events, join online communities, and connect with data analysts on LinkedIn.\n",
      "3. **Stay curious and keep learning**: The field of data analysis is constantly evolving, so it's essential to stay updated with new tools, technologies, and techniques.\n",
      "\n",
      "Remember, switching to a Data Analyst role takes time, effort, and dedication. Focus on building your skills, networking, and gaining practical experience to increase your chances of success. Good luck!\n"
     ]
    }
   ],
   "source": [
    "for j in list(store.keys()):\n",
    "    print(j)\n",
    "    for i, mes in enumerate(store.get(j).messages):\n",
    "        print(\"Type:\", mes.type, \"Content:\", mes.content)"
   ]
  },
  {
   "cell_type": "code",
   "execution_count": 110,
   "id": "c762ac87",
   "metadata": {},
   "outputs": [
    {
     "data": {
      "text/markdown": [
       "### Session: `s1`\n",
       "**1. Human**: I am Soumo working as a product analyst in source desk\n",
       "\n",
       "**2. Ai**: Hello Soumo, it's nice to meet you. As a product analyst at Source Desk, you must be working on analyzing data to inform product decisions and drive business growth. What specific areas of product analysis do you focus on, such as customer behavior, market trends, or product optimization? I'm here to help and chat about your work if you'd like.\n",
       "\n",
       "**3. Ai**:  \n",
       "\n",
       "Also, I can offer some general information about product analysis if you're interested. Or we could discuss topics like data analysis, product development, or industry trends. Just let me know what's on your mind!\n",
       "\n",
       "**4. Human**: What is My Name ?\n",
       "\n",
       "**5. Ai**: Your name is Soumo, and you work as a product analyst at Source Desk.\n",
       "\n",
       "**6. Human**: I am Soumo working as a product analyst in source desk\n",
       "\n",
       "**7. Ai**: Hello Soumo, it's nice to meet you. As a product analyst at Source Desk, you must be working on analyzing data to inform product decisions and drive business growth. What specific areas of product analysis do you focus on, such as customer behavior, market trends, or product optimization? I'm here to help and chat about your work if you'd like.\n",
       "\n",
       "**8. Ai**:  \n",
       "\n",
       "Also, I can offer some general information about product analysis if you're interested. Or we could discuss topics like data analysis, product development, or industry trends. Just let me know what's on your mind!\n",
       "\n",
       "**9. Human**: What is My Name ?\n",
       "\n",
       "**10. Ai**: Your name is Soumo, and you work as a product analyst at Source Desk.\n",
       "\n",
       "**11. Human**: Where is SourceDesk located ?\n",
       "\n",
       "**12. Ai**: You didn't mention the location of Source Desk, so I don't have that information. As a product analyst at Source Desk, you might know the location, but I don't have any details about it. Can you tell me where Source Desk is located?\n",
       "\n"
      ],
      "text/plain": [
       "<IPython.core.display.Markdown object>"
      ]
     },
     "metadata": {},
     "output_type": "display_data"
    },
    {
     "data": {
      "text/markdown": [
       "### Session: `s2`\n",
       "**1. Human**: I am krish working as a product analyst in source desk\n",
       "\n",
       "**2. Ai**: Hello Krish, nice to meet you. It sounds like you have an interesting role as a Product Analyst at Source Desk. What specific aspects of product analysis do you focus on, and what are some of the most challenging or rewarding parts of your job?\n",
       "\n",
       "**3. Human**: I am krish working as a product analyst in source desk\n",
       "\n",
       "**4. Ai**: Hello Krish, nice to meet you. It sounds like you have an interesting role as a Product Analyst at Source Desk. What specific aspects of product analysis do you focus on, and what are some of the most challenging or rewarding parts of your job?\n",
       "\n",
       "**5. Human**: Source desk is an IT firm\n",
       "\n",
       "**6. Ai**: Hello Krish, nice to meet you. So, you work as a Product Analyst at Source Desk, which is an IT firm. That's a great industry to be in, with always evolving technologies and innovations.\n",
       "\n",
       "As a Product Analyst, I assume you work closely with cross-functional teams to analyze data, identify trends, and inform product decisions. What kind of products or services does Source Desk offer, and how do you contribute to their development and growth?\n",
       "\n",
       "**7. Human**: I am krish working as a product analyst in source desk\n",
       "\n",
       "**8. Ai**: Hello Krish, nice to meet you. It sounds like you have an interesting role as a Product Analyst at Source Desk. What specific aspects of product analysis do you focus on, and what are some of the most challenging or rewarding parts of your job?\n",
       "\n",
       "**9. Human**: Source desk is an IT firm, located in kolkata\n",
       "\n",
       "**10. Ai**: Hello Krish, nice to meet you. So, you work as a Product Analyst at Source Desk, which is an IT firm. That's a great industry to be in, with always evolving technologies and innovations.\n",
       "\n",
       "As a Product Analyst, I assume you work closely with cross-functional teams to analyze data, identify trends, and inform product decisions. What kind of products or services does Source Desk offer, and how do you contribute to their development and growth?\n",
       "\n",
       "**11. Human**: whtat is source desk\n",
       "\n",
       "**12. Ai**: Unfortunately, I don't have any specific information about Source Desk, as it seems to be a private company. However, based on our conversation, I can make some general assumptions:\n",
       "\n",
       "* Source Desk is an IT firm, which means it likely provides information technology-related services or products.\n",
       "* It is located in Kolkata, India, which suggests it may be a regional or national company with a presence in Eastern India.\n",
       "* As a Product Analyst, you likely work on analyzing data, identifying trends, and informing product decisions to help drive the company's growth and success.\n",
       "\n",
       "If you'd like to share more about Source Desk, I'd be happy to learn more! What kind of products or services does the company offer, and what's your role like as a Product Analyst?\n",
       "\n",
       "**13. Human**: I am krish working as a product analyst in source desk\n",
       "\n",
       "**14. Ai**: Hello Krish, nice to meet you. It sounds like you have an interesting role as a Product Analyst at Source Desk. What specific aspects of product analysis do you focus on, and what are some of the most challenging or rewarding parts of your job?\n",
       "\n",
       "**15. Human**: Source desk is an IT firm, located in kolkata\n",
       "\n",
       "**16. Ai**: Hello Krish, nice to meet you. So, you work as a Product Analyst at Source Desk, which is an IT firm. That's a great industry to be in, with always evolving technologies and innovations.\n",
       "\n",
       "As a Product Analyst, I assume you work closely with cross-functional teams to analyze data, identify trends, and inform product decisions. What kind of products or services does Source Desk offer, and how do you contribute to their development and growth?\n",
       "\n",
       "**17. Human**: whtat is source desk\n",
       "\n",
       "**18. Ai**: Unfortunately, I don't have any specific information about Source Desk, as it seems to be a private company. However, based on our conversation, I can make some general assumptions:\n",
       "\n",
       "* Source Desk is an IT firm, which means it likely provides information technology-related services or products.\n",
       "* It is located in Kolkata, India, which suggests it may be a regional or national company with a presence in Eastern India.\n",
       "* As a Product Analyst, you likely work on analyzing data, identifying trends, and informing product decisions to help drive the company's growth and success.\n",
       "\n",
       "If you'd like to share more about Source Desk, I'd be happy to learn more! What kind of products or services does the company offer, and what's your role like as a Product Analyst?\n",
       "\n",
       "**19. Human**: Sggest me a proper road map to Swith my profile to data anlyst\n",
       "\n",
       "**20. Ai**: As a Product Analyst, you already have a strong foundation in analysis and problem-solving. To switch to a Data Analyst role, you'll need to build on your existing skills and acquire some new ones. Here's a suggested roadmap to help you make the transition:\n",
       "\n",
       "**Short-term goals (3-6 months)**\n",
       "\n",
       "1. **Brush up on statistical concepts**:\n",
       "\t* Review probability, statistics, and data modeling concepts.\n",
       "\t* Study resources: Khan Academy, Coursera, edX, or DataCamp.\n",
       "2. **Learn data visualization tools**:\n",
       "\t* Familiarize yourself with Tableau, Power BI, or D3.js.\n",
       "\t* Practice creating interactive dashboards and visualizations.\n",
       "3. **Improve your SQL skills**:\n",
       "\t* Learn advanced SQL concepts, such as subqueries, joins, and aggregations.\n",
       "\t* Practice writing efficient queries and optimizing database performance.\n",
       "4. **Get familiar with data manipulation and analysis libraries**:\n",
       "\t* Learn Python libraries like Pandas, NumPy, and Matplotlib.\n",
       "\t* Practice data cleaning, filtering, and grouping using these libraries.\n",
       "\n",
       "**Mid-term goals (6-12 months)**\n",
       "\n",
       "1. **Learn machine learning fundamentals**:\n",
       "\t* Study supervised and unsupervised learning concepts.\n",
       "\t* Learn popular algorithms like linear regression, decision trees, and clustering.\n",
       "2. **Explore data science tools and technologies**:\n",
       "\t* Learn about big data technologies like Hadoop, Spark, or NoSQL databases.\n",
       "\t* Familiarize yourself with cloud-based data platforms like AWS, GCP, or Azure.\n",
       "3. **Develop data storytelling skills**:\n",
       "\t* Learn to communicate complex data insights effectively.\n",
       "\t* Practice creating reports, presentations, and dashboards that tell a story.\n",
       "4. **Participate in data analysis projects**:\n",
       "\t* Join online communities like Kaggle, Reddit (r/dataanalysis), or Data Science subreddit.\n",
       "\t* Participate in hackathons or data science competitions to practice your skills.\n",
       "\n",
       "**Long-term goals (1-2 years)**\n",
       "\n",
       "1. **Pursue a certification in data analysis**:\n",
       "\t* Consider certifications like Google Data Analytics, Microsoft Certified: Data Analyst, or Certified Data Analyst (CDA).\n",
       "2. **Learn advanced data analysis techniques**:\n",
       "\t* Study topics like time series analysis, forecasting, or text analysis.\n",
       "\t* Learn to work with unstructured data, such as images, audio, or text.\n",
       "3. **Stay up-to-date with industry trends and developments**:\n",
       "\t* Attend conferences, meetups, or webinars to learn about new tools and technologies.\n",
       "\t* Network with professionals in the field to stay informed about best practices.\n",
       "4. **Consider a graduate degree in data science**:\n",
       "\t* If you're interested in advanced research or leadership roles, a master's degree in data science might be beneficial.\n",
       "\n",
       "**Additional tips**\n",
       "\n",
       "1. **Build a strong portfolio**: Showcase your data analysis projects and accomplishments on platforms like GitHub or Kaggle.\n",
       "2. **Network with professionals**: Attend industry events, join online communities, and connect with data analysts on LinkedIn.\n",
       "3. **Stay curious and keep learning**: The field of data analysis is constantly evolving, so it's essential to stay updated with new tools, technologies, and techniques.\n",
       "\n",
       "Remember, switching to a Data Analyst role takes time, effort, and dedication. Focus on building your skills, networking, and gaining practical experience to increase your chances of success. Good luck!\n",
       "\n"
      ],
      "text/plain": [
       "<IPython.core.display.Markdown object>"
      ]
     },
     "metadata": {},
     "output_type": "display_data"
    }
   ],
   "source": [
    "from IPython.display import Markdown, display\n",
    "\n",
    "for j in list(store.keys()):\n",
    "    md = f\"### Session: `{j}`\\n\"\n",
    "    for i, mes in enumerate(store.get(j).messages, 1):\n",
    "        md += f\"**{i}. {mes.type.capitalize()}**: {mes.content}\\n\\n\"\n",
    "    display(Markdown(md))"
   ]
  },
  {
   "cell_type": "code",
   "execution_count": 112,
   "id": "bc1656b2",
   "metadata": {},
   "outputs": [
    {
     "data": {
      "text/plain": [
       "dict_keys(['s1', 's2'])"
      ]
     },
     "execution_count": 112,
     "metadata": {},
     "output_type": "execute_result"
    }
   ],
   "source": [
    "store.keys()"
   ]
  },
  {
   "cell_type": "code",
   "execution_count": null,
   "id": "ad45b698",
   "metadata": {},
   "outputs": [],
   "source": []
  },
  {
   "cell_type": "code",
   "execution_count": null,
   "id": "c804caf6",
   "metadata": {},
   "outputs": [],
   "source": []
  },
  {
   "cell_type": "code",
   "execution_count": null,
   "id": "47eb19dd",
   "metadata": {},
   "outputs": [],
   "source": []
  },
  {
   "cell_type": "code",
   "execution_count": null,
   "id": "2494b0c4",
   "metadata": {},
   "outputs": [],
   "source": []
  },
  {
   "cell_type": "code",
   "execution_count": null,
   "id": "e420b89d",
   "metadata": {},
   "outputs": [],
   "source": []
  },
  {
   "cell_type": "code",
   "execution_count": null,
   "id": "4b984581",
   "metadata": {},
   "outputs": [],
   "source": []
  },
  {
   "cell_type": "code",
   "execution_count": null,
   "id": "9d52b93d",
   "metadata": {},
   "outputs": [],
   "source": []
  },
  {
   "cell_type": "code",
   "execution_count": null,
   "id": "f8ff1c0c",
   "metadata": {},
   "outputs": [],
   "source": []
  },
  {
   "cell_type": "code",
   "execution_count": null,
   "id": "83c68174",
   "metadata": {},
   "outputs": [],
   "source": []
  },
  {
   "cell_type": "code",
   "execution_count": null,
   "id": "e4c7a17e",
   "metadata": {},
   "outputs": [],
   "source": []
  }
 ],
 "metadata": {
  "kernelspec": {
   "display_name": "Python 3",
   "language": "python",
   "name": "python3"
  },
  "language_info": {
   "codemirror_mode": {
    "name": "ipython",
    "version": 3
   },
   "file_extension": ".py",
   "mimetype": "text/x-python",
   "name": "python",
   "nbconvert_exporter": "python",
   "pygments_lexer": "ipython3",
   "version": "3.10.0"
  }
 },
 "nbformat": 4,
 "nbformat_minor": 5
}
