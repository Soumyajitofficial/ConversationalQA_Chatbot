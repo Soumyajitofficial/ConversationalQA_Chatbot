{
 "cells": [
  {
   "cell_type": "markdown",
   "id": "167eb619",
   "metadata": {},
   "source": [
    "# Search Engine With tools"
   ]
  },
  {
   "cell_type": "code",
   "execution_count": 1,
   "id": "9c05362a",
   "metadata": {},
   "outputs": [],
   "source": [
    "from langchain_community.tools import ArxivQueryRun , WikipediaQueryRun\n",
    "from langchain_community.utilities import WikipediaAPIWrapper, ArxivAPIWrapper"
   ]
  },
  {
   "cell_type": "code",
   "execution_count": 12,
   "id": "7f6a24c9",
   "metadata": {},
   "outputs": [
    {
     "data": {
      "text/plain": [
       "'wikipedia'"
      ]
     },
     "execution_count": 12,
     "metadata": {},
     "output_type": "execute_result"
    }
   ],
   "source": [
    "# Wikipedia tool\n",
    "api_wrapper_wiki = WikipediaAPIWrapper(top_k_results=1 , doc_content_chars_max=500)\n",
    "wiki = WikipediaQueryRun(api_wrapper=api_wrapper_wiki)\n",
    "wiki.name"
   ]
  },
  {
   "cell_type": "code",
   "execution_count": 13,
   "id": "449148b3",
   "metadata": {},
   "outputs": [
    {
     "data": {
      "text/markdown": [
       "Published: 2024-04-11\n",
       "Title: Boosting Digital Safeguards: Blending Cryptography and Steganography\n",
       "Authors: Anamitra Maiti, Subham Laha, Rishav Upadhaya, Soumyajit Biswas, Vikas Chaudhary, Biplab Kar, Nikhil Kumar, Jaydip Sen\n",
       "Summary: In today's digital age, the internet is essential for communication and the\n",
       "sharing of information, creating a critical need for sophisticated data\n",
       "security measures to prevent unauthorized access and exploitation. Cryptography\n",
       "encrypts messages into a cipher text that is incomprehensible to unauthorized\n",
       "readers, thus safeguarding data during its transmission. Steganography, on the\n",
       "other hand, originates from the Greek term for \"covered writing\" and involves\n",
       "the art of hiding data within another medium, thereby facilitating covert\n",
       "communication by making the message invisible. This proposed approach takes\n",
       "advantage of the latest advancements in Artificial Intelligence (AI) and Deep\n",
       "Learning (DL), especially through the application of Generative Adversarial\n",
       "Networks (GANs), to improve upon traditional steganographic methods. By\n",
       "embedding encrypted data within another medium, our method ensures that the\n",
       "communication remains hidden from prying eyes. The application of GANs enables\n",
       "a smart, secure system that utilizes the inherent sensitivity of neural\n",
       "networks to slight alterations in data, enhancing the protection against\n",
       "detection. By merging the encryption techniques of cryptography with the hiding\n",
       "capabilities of steganography, and augmenting these with the strengths of AI,\n",
       "we introduce a comprehensive security system designed to maintain both the\n",
       "privacy and integrity of information. This system is crafted not just to\n",
       "prevent unauthorized access or modification of data, but also to keep the\n",
       "existence of the data hidden. This fusion of technologies tackles the core\n",
       "challenges of data security in the current era of open digital communication,\n",
       "presenting an advanced solution with the potential to transform the landscape\n",
       "of information security."
      ],
      "text/plain": [
       "<IPython.core.display.Markdown object>"
      ]
     },
     "execution_count": 13,
     "metadata": {},
     "output_type": "execute_result"
    }
   ],
   "source": [
    "from IPython.display import Markdown\n",
    "\n",
    "#Arxiv Tool\n",
    "api_wrapper_arxiv = ArxivAPIWrapper(top_k_results = 3, ARXIV_MAX_QUERY_LENGTH = 500)\n",
    "arxiv = api_wrapper_arxiv.run(\"2404.05985\")\n",
    "Markdown(arxiv)"
   ]
  },
  {
   "cell_type": "code",
   "execution_count": 14,
   "id": "071b1ba1",
   "metadata": {},
   "outputs": [],
   "source": [
    "tools = [wiki , arxiv]"
   ]
  },
  {
   "cell_type": "code",
   "execution_count": null,
   "id": "37a46161",
   "metadata": {},
   "outputs": [],
   "source": [
    "# custom_tools [rag]\n",
    "from  "
   ]
  },
  {
   "cell_type": "code",
   "execution_count": null,
   "id": "928a6d28",
   "metadata": {},
   "outputs": [],
   "source": []
  },
  {
   "cell_type": "code",
   "execution_count": null,
   "id": "88b34164",
   "metadata": {},
   "outputs": [],
   "source": []
  },
  {
   "cell_type": "code",
   "execution_count": null,
   "id": "e376b2ce",
   "metadata": {},
   "outputs": [],
   "source": []
  },
  {
   "cell_type": "code",
   "execution_count": null,
   "id": "911b9889",
   "metadata": {},
   "outputs": [],
   "source": []
  },
  {
   "cell_type": "code",
   "execution_count": null,
   "id": "636779cc",
   "metadata": {},
   "outputs": [],
   "source": []
  },
  {
   "cell_type": "code",
   "execution_count": null,
   "id": "93699e87",
   "metadata": {},
   "outputs": [],
   "source": []
  },
  {
   "cell_type": "code",
   "execution_count": null,
   "id": "a19f6bee",
   "metadata": {},
   "outputs": [],
   "source": []
  },
  {
   "cell_type": "code",
   "execution_count": null,
   "id": "2ea816aa",
   "metadata": {},
   "outputs": [],
   "source": []
  },
  {
   "cell_type": "code",
   "execution_count": null,
   "id": "de7397b9",
   "metadata": {},
   "outputs": [],
   "source": []
  },
  {
   "cell_type": "code",
   "execution_count": null,
   "id": "d5d6c9fb",
   "metadata": {},
   "outputs": [],
   "source": []
  },
  {
   "cell_type": "code",
   "execution_count": null,
   "id": "97aff007",
   "metadata": {},
   "outputs": [],
   "source": []
  },
  {
   "cell_type": "code",
   "execution_count": null,
   "id": "da2adc38",
   "metadata": {},
   "outputs": [],
   "source": []
  }
 ],
 "metadata": {
  "kernelspec": {
   "display_name": "Python 3",
   "language": "python",
   "name": "python3"
  },
  "language_info": {
   "codemirror_mode": {
    "name": "ipython",
    "version": 3
   },
   "file_extension": ".py",
   "mimetype": "text/x-python",
   "name": "python",
   "nbconvert_exporter": "python",
   "pygments_lexer": "ipython3",
   "version": "3.10.0"
  }
 },
 "nbformat": 4,
 "nbformat_minor": 5
}
