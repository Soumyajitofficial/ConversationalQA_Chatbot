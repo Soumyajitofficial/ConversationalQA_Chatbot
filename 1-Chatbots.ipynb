{
 "cells": [
  {
   "cell_type": "markdown",
   "id": "b58c5dd5",
   "metadata": {},
   "source": [
    "## Building A Chatbot\n",
    "We'll go over an example of how to design and implement an LLM-powered chatbot. This chatbot will be able to have a conversation and remember previous interactions.\n",
    "\n",
    "Note that this chatbot that we build will only use the language model to have a conversation. There are several other related concepts that you may be looking for:\n",
    "\n",
    "- Conversational RAG: Enable a chatbot experience over an external source of data\n",
    "- Agents: Build a chatbot that can take actions\n",
    "\n",
    "This will cover the basics which will be helpful for those two more advanced topics."
   ]
  },
  {
   "cell_type": "code",
   "execution_count": 2,
   "id": "97b9c4e3",
   "metadata": {},
   "outputs": [],
   "source": [
    "import os\n",
    "from dotenv import load_dotenv\n",
    "load_dotenv(r\"C:\\Projects\\.env\")\n",
    "from langchain_groq import ChatGroq\n",
    "from langchain_core.messages import AIMessage, HumanMessage , SystemMessage\n",
    "from langchain_community.chat_message_histories import ChatMessageHistory\n",
    "from langchain_core.chat_history import BaseChatMessageHistory\n",
    "from langchain_core.runnables.history import RunnableWithMessageHistory"
   ]
  },
  {
   "cell_type": "code",
   "execution_count": 3,
   "id": "2fa72c3a",
   "metadata": {},
   "outputs": [],
   "source": [
    "groq_api_key = os.getenv(\"GROQ_API_KEY\")"
   ]
  },
  {
   "cell_type": "code",
   "execution_count": 48,
   "id": "41b05f02",
   "metadata": {},
   "outputs": [],
   "source": [
    "llm = ChatGroq(\n",
    "    model=\"llama-3.3-70b-versatile\",\n",
    "    groq_api_key=groq_api_key,\n",
    "    max_tokens=150  # ~100 words\n",
    ")\n",
    "response = llm.invoke(\"I am Soumo working as a product analyst in source desk\")\n"
   ]
  },
  {
   "cell_type": "code",
   "execution_count": 5,
   "id": "d75f6584",
   "metadata": {},
   "outputs": [
    {
     "data": {
      "text/plain": [
       "AIMessage(content=\"Hello Soumo, nice to meet you. It sounds like you're working as a Product Analyst at Source Desk. That's a fascinating role. As a Product Analyst, you must be involved in analyzing data and market trends to inform product development and improvement decisions. \\n\\nWhat specific areas of product analysis do you focus on at Source Desk? Are you working on optimizing existing products or helping to develop new ones? I'm here to chat and help if you have any questions or need any assistance.\", additional_kwargs={}, response_metadata={'token_usage': {'completion_tokens': 99, 'prompt_tokens': 47, 'total_tokens': 146, 'completion_time': 0.36, 'prompt_time': 0.002278392, 'queue_time': 0.051704908, 'total_time': 0.362278392}, 'model_name': 'llama-3.3-70b-versatile', 'system_fingerprint': 'fp_3f3b593e33', 'finish_reason': 'stop', 'logprobs': None}, id='run--974b66f6-67e8-43b4-8351-81ab87109c52-0', usage_metadata={'input_tokens': 47, 'output_tokens': 99, 'total_tokens': 146})"
      ]
     },
     "execution_count": 5,
     "metadata": {},
     "output_type": "execute_result"
    }
   ],
   "source": [
    "response"
   ]
  },
  {
   "cell_type": "code",
   "execution_count": 6,
   "id": "7505ce25",
   "metadata": {},
   "outputs": [
    {
     "data": {
      "text/plain": [
       "'Your name is Soumo, and you work as a Product Analyst at Source Desk.'"
      ]
     },
     "execution_count": 6,
     "metadata": {},
     "output_type": "execute_result"
    }
   ],
   "source": [
    "llm.invoke(    [\n",
    "        HumanMessage(content=\"I am Soumo working as a product analyst in source desk\"),\n",
    "        AIMessage(content=\"Hello Soumo, it's nice to meet you. As a product analyst at Source Desk, you must be working on analyzing data to inform product decisions and drive business growth. What specific areas of product analysis do you focus on, such as customer behavior, market trends, or product optimization? I'm here to help and chat about your work if you'd like.\"),\n",
    "        HumanMessage(content=\"What is My Name ?\")\n",
    "    ]\n",
    ").content"
   ]
  },
  {
   "cell_type": "markdown",
   "id": "14d7edcc",
   "metadata": {},
   "source": [
    "### Message History\n",
    "We can use a Message History class to wrap our model and make it stateful. This will keep track of inputs and outputs of the model, and store them in some datastore. Future interactions will then load those messages and pass them into the chain as part of the input. Let's see how to use this!\n"
   ]
  },
  {
   "cell_type": "code",
   "execution_count": 7,
   "id": "6dd36b8d",
   "metadata": {},
   "outputs": [],
   "source": [
    "store = {}\n",
    "def get_session_history(session_id: str)-> BaseChatMessageHistory: ## functio will be created to get the session history and \n",
    "    if session_id not in store:\n",
    "        store[session_id] = ChatMessageHistory()\n",
    "    return store[session_id]\n",
    "config1 = {\"configurable\": {\"session_id\":\"s1\"}}\n",
    "config2 = {\"configurable\": {\"session_id\":\"s2\"}}\n",
    "with_message_history = RunnableWithMessageHistory(llm,get_session_history)"
   ]
  },
  {
   "cell_type": "code",
   "execution_count": 8,
   "id": "62ac98ad",
   "metadata": {},
   "outputs": [
    {
     "data": {
      "text/plain": [
       "\"Unfortunately, I don't have that information. You didn't mention the location of Source Desk, and I couldn't find any information about a company by that name. Could you please tell me where Source Desk is located?\""
      ]
     },
     "execution_count": 8,
     "metadata": {},
     "output_type": "execute_result"
    }
   ],
   "source": [
    "config1 = {\"configurable\": {\"session_id\":\"s1\"}}\n",
    "with_message_history.invoke(\n",
    "\n",
    "    [HumanMessage(content=\"I am Soumo working as a product analyst in source desk\"),\n",
    "     AIMessage(content=\"Hello Soumo, it's nice to meet you. As a product analyst at Source Desk, you must be working on analyzing data to inform product decisions and drive business growth. What specific areas of product analysis do you focus on, such as customer behavior, market trends, or product optimization? I'm here to help and chat about your work if you'd like.\"),\n",
    "     AIMessage(content=\" \\n\\nAlso, I can offer some general information about product analysis if you're interested. Or we could discuss topics like data analysis, product development, or industry trends. Just let me know what's on your mind!\"),\n",
    "     HumanMessage(content=\"What is My Name ?\"),\n",
    "     AIMessage(content=\"Your name is Soumo, and you work as a product analyst at Source Desk.\"),\n",
    "     HumanMessage(content=\"Where is SourceDesk located ?\")],\n",
    "    config=config1\n",
    ").content"
   ]
  },
  {
   "cell_type": "code",
   "execution_count": 9,
   "id": "7f7ac2d2",
   "metadata": {},
   "outputs": [
    {
     "data": {
      "text/plain": [
       "['s1']"
      ]
     },
     "execution_count": 9,
     "metadata": {},
     "output_type": "execute_result"
    }
   ],
   "source": [
    "list(store.keys())"
   ]
  },
  {
   "cell_type": "code",
   "execution_count": 10,
   "id": "bc343280",
   "metadata": {},
   "outputs": [
    {
     "data": {
      "text/plain": [
       "\"As a Product Analyst at Source Desk, you already have a strong foundation in analysis and problem-solving. To switch to a Data Analyst role, you'll need to acquire and showcase skills in data analysis, visualization, and interpretation. Here's a step-by-step roadmap to help you make the transition:\\n\\n**Short-term goals (3-6 months)**\\n\\n1. **Learn the basics of data analysis**:\\n\\t* Take online courses or attend workshops to learn data analysis fundamentals, such as:\\n\\t\\t+ Data types and structures\\n\\t\\t+ Data visualization (e.g., Excel, Tableau, Power BI)\\n\\t\\t+ Statistical concepts (e.g., mean, median, mode, correlation)\\n\\t* Familiarize yourself with data analysis tools like Excel, SQL, and data visualization software.\\n2. **Get familiar with data visualization tools**:\\n\\t* Learn to create interactive dashboards using tools like Tableau, Power BI, or D3.js.\\n\\t* Practice creating visualizations to communicate insights effectively.\\n3. **Develop your SQL skills**:\\n\\t* Learn the basics of SQL, including data modeling, querying, and data manipulation.\\n\\t* Practice writing SQL queries to extract and analyze data.\\n\\n**Mid-term goals (6-12 months)**\\n\\n1. **Learn advanced data analysis concepts**:\\n\\t* Study machine learning fundamentals, including supervised and unsupervised learning.\\n\\t* Learn about data mining, text analysis, and data wrangling.\\n\\t* Familiarize yourself with data analysis libraries like Pandas, NumPy, and Matplotlib.\\n2. **Work on projects to build your portfolio**:\\n\\t* Find publicly available datasets (e.g., Kaggle, UCI Machine Learning Repository) and work on projects to demonstrate your skills.\\n\\t* Create a portfolio that showcases your data analysis and visualization capabilities.\\n3. **Stay up-to-date with industry trends**:\\n\\t* Follow data science and analytics blogs, podcasts, and conferences to stay current with industry developments.\\n\\n**Long-term goals (1-2 years)**\\n\\n1. **Pursue a certification in data analysis**:\\n\\t* Consider certifications like Certified Data Analyst (CDA), Certified Analytics Professional (CAP), or Google Data Analytics Certification.\\n\\t* These certifications can help you demonstrate your expertise and commitment to the field.\\n2. **Network and join online communities**:\\n\\t* Participate in online forums like Kaggle, Reddit (r/dataanalysis and r/statistics), and Data Science Council of America (DASCA).\\n\\t* Attend webinars, meetups, and conferences to connect with professionals in the field.\\n3. **Continuously learn and improve**:\\n\\t* Stay updated with new tools, technologies, and methodologies in data analysis.\\n\\t* Set aside time for self-study and experimentation to expand your skill set.\\n\\n**Additional tips**\\n\\n1. **Highlight transferable skills**: Emphasize the skills you've developed as a Product Analyst that are relevant to data analysis, such as problem-solving, analytical thinking, and communication.\\n2. **Tailor your resume and online profiles**: Update your resume, LinkedIn profile, and other online presence to showcase your data analysis skills and experience.\\n3. **Prepare for common data analyst interview questions**: Familiarize yourself with common interview questions and practice answering them to demonstrate your skills and knowledge.\\n\\nBy following this roadmap, you'll be well-prepared to transition into a Data Analyst role and start a new chapter in your career. Good luck!\""
      ]
     },
     "execution_count": 10,
     "metadata": {},
     "output_type": "execute_result"
    }
   ],
   "source": [
    "config2 = {\"configurable\": {\"session_id\":\"s2\"}}\n",
    "with_message_history.invoke(\n",
    "\n",
    "    [\n",
    "     HumanMessage(content=\"I am krish working as a product analyst in source desk\"),\n",
    "     AIMessage(content=\"Hello Krish, nice to meet you. It sounds like you have an interesting role as a Product Analyst at Source Desk. What specific aspects of product analysis do you focus on, and what are some of the most challenging or rewarding parts of your job?\"),\n",
    "     HumanMessage(content=\"Source desk is an IT firm, located in kolkata\"),\n",
    "     AIMessage(content=\"Hello Krish, nice to meet you. So, you work as a Product Analyst at Source Desk, which is an IT firm. That's a great industry to be in, with always evolving technologies and innovations.\\n\\nAs a Product Analyst, I assume you work closely with cross-functional teams to analyze data, identify trends, and inform product decisions. What kind of products or services does Source Desk offer, and how do you contribute to their development and growth?\"),\n",
    "     HumanMessage(content=\"whtat is source desk\"),\n",
    "     AIMessage(content=\"Unfortunately, I don't have any specific information about Source Desk, as it seems to be a private company. However, based on our conversation, I can make some general assumptions:\\n\\n* Source Desk is an IT firm, which means it likely provides information technology-related services or products.\\n* It is located in Kolkata, India, which suggests it may be a regional or national company with a presence in Eastern India.\\n* As a Product Analyst, you likely work on analyzing data, identifying trends, and informing product decisions to help drive the company's growth and success.\\n\\nIf you'd like to share more about Source Desk, I'd be happy to learn more! What kind of products or services does the company offer, and what's your role like as a Product Analyst?\"),\n",
    "     HumanMessage(content=\"Sggest me a proper road map to Swith my profile to data anlyst\")\n",
    "    ],\n",
    "    config=config2\n",
    ").content"
   ]
  },
  {
   "cell_type": "code",
   "execution_count": 11,
   "id": "7ec649d5",
   "metadata": {},
   "outputs": [
    {
     "data": {
      "text/plain": [
       "dict_keys(['s1', 's2'])"
      ]
     },
     "execution_count": 11,
     "metadata": {},
     "output_type": "execute_result"
    }
   ],
   "source": [
    "store.keys()"
   ]
  },
  {
   "cell_type": "code",
   "execution_count": 12,
   "id": "de728a55",
   "metadata": {},
   "outputs": [
    {
     "name": "stdout",
     "output_type": "stream",
     "text": [
      "s1\n",
      "Type: human Content: I am Soumo working as a product analyst in source desk\n",
      "Type: ai Content: Hello Soumo, it's nice to meet you. As a product analyst at Source Desk, you must be working on analyzing data to inform product decisions and drive business growth. What specific areas of product analysis do you focus on, such as customer behavior, market trends, or product optimization? I'm here to help and chat about your work if you'd like.\n",
      "Type: ai Content:  \n",
      "\n",
      "Also, I can offer some general information about product analysis if you're interested. Or we could discuss topics like data analysis, product development, or industry trends. Just let me know what's on your mind!\n",
      "Type: human Content: What is My Name ?\n",
      "Type: ai Content: Your name is Soumo, and you work as a product analyst at Source Desk.\n",
      "Type: human Content: Where is SourceDesk located ?\n",
      "Type: ai Content: Unfortunately, I don't have that information. You didn't mention the location of Source Desk, and I couldn't find any information about a company by that name. Could you please tell me where Source Desk is located?\n",
      "s2\n",
      "Type: human Content: I am krish working as a product analyst in source desk\n",
      "Type: ai Content: Hello Krish, nice to meet you. It sounds like you have an interesting role as a Product Analyst at Source Desk. What specific aspects of product analysis do you focus on, and what are some of the most challenging or rewarding parts of your job?\n",
      "Type: human Content: Source desk is an IT firm, located in kolkata\n",
      "Type: ai Content: Hello Krish, nice to meet you. So, you work as a Product Analyst at Source Desk, which is an IT firm. That's a great industry to be in, with always evolving technologies and innovations.\n",
      "\n",
      "As a Product Analyst, I assume you work closely with cross-functional teams to analyze data, identify trends, and inform product decisions. What kind of products or services does Source Desk offer, and how do you contribute to their development and growth?\n",
      "Type: human Content: whtat is source desk\n",
      "Type: ai Content: Unfortunately, I don't have any specific information about Source Desk, as it seems to be a private company. However, based on our conversation, I can make some general assumptions:\n",
      "\n",
      "* Source Desk is an IT firm, which means it likely provides information technology-related services or products.\n",
      "* It is located in Kolkata, India, which suggests it may be a regional or national company with a presence in Eastern India.\n",
      "* As a Product Analyst, you likely work on analyzing data, identifying trends, and informing product decisions to help drive the company's growth and success.\n",
      "\n",
      "If you'd like to share more about Source Desk, I'd be happy to learn more! What kind of products or services does the company offer, and what's your role like as a Product Analyst?\n",
      "Type: human Content: Sggest me a proper road map to Swith my profile to data anlyst\n",
      "Type: ai Content: As a Product Analyst at Source Desk, you already have a strong foundation in analysis and problem-solving. To switch to a Data Analyst role, you'll need to acquire and showcase skills in data analysis, visualization, and interpretation. Here's a step-by-step roadmap to help you make the transition:\n",
      "\n",
      "**Short-term goals (3-6 months)**\n",
      "\n",
      "1. **Learn the basics of data analysis**:\n",
      "\t* Take online courses or attend workshops to learn data analysis fundamentals, such as:\n",
      "\t\t+ Data types and structures\n",
      "\t\t+ Data visualization (e.g., Excel, Tableau, Power BI)\n",
      "\t\t+ Statistical concepts (e.g., mean, median, mode, correlation)\n",
      "\t* Familiarize yourself with data analysis tools like Excel, SQL, and data visualization software.\n",
      "2. **Get familiar with data visualization tools**:\n",
      "\t* Learn to create interactive dashboards using tools like Tableau, Power BI, or D3.js.\n",
      "\t* Practice creating visualizations to communicate insights effectively.\n",
      "3. **Develop your SQL skills**:\n",
      "\t* Learn the basics of SQL, including data modeling, querying, and data manipulation.\n",
      "\t* Practice writing SQL queries to extract and analyze data.\n",
      "\n",
      "**Mid-term goals (6-12 months)**\n",
      "\n",
      "1. **Learn advanced data analysis concepts**:\n",
      "\t* Study machine learning fundamentals, including supervised and unsupervised learning.\n",
      "\t* Learn about data mining, text analysis, and data wrangling.\n",
      "\t* Familiarize yourself with data analysis libraries like Pandas, NumPy, and Matplotlib.\n",
      "2. **Work on projects to build your portfolio**:\n",
      "\t* Find publicly available datasets (e.g., Kaggle, UCI Machine Learning Repository) and work on projects to demonstrate your skills.\n",
      "\t* Create a portfolio that showcases your data analysis and visualization capabilities.\n",
      "3. **Stay up-to-date with industry trends**:\n",
      "\t* Follow data science and analytics blogs, podcasts, and conferences to stay current with industry developments.\n",
      "\n",
      "**Long-term goals (1-2 years)**\n",
      "\n",
      "1. **Pursue a certification in data analysis**:\n",
      "\t* Consider certifications like Certified Data Analyst (CDA), Certified Analytics Professional (CAP), or Google Data Analytics Certification.\n",
      "\t* These certifications can help you demonstrate your expertise and commitment to the field.\n",
      "2. **Network and join online communities**:\n",
      "\t* Participate in online forums like Kaggle, Reddit (r/dataanalysis and r/statistics), and Data Science Council of America (DASCA).\n",
      "\t* Attend webinars, meetups, and conferences to connect with professionals in the field.\n",
      "3. **Continuously learn and improve**:\n",
      "\t* Stay updated with new tools, technologies, and methodologies in data analysis.\n",
      "\t* Set aside time for self-study and experimentation to expand your skill set.\n",
      "\n",
      "**Additional tips**\n",
      "\n",
      "1. **Highlight transferable skills**: Emphasize the skills you've developed as a Product Analyst that are relevant to data analysis, such as problem-solving, analytical thinking, and communication.\n",
      "2. **Tailor your resume and online profiles**: Update your resume, LinkedIn profile, and other online presence to showcase your data analysis skills and experience.\n",
      "3. **Prepare for common data analyst interview questions**: Familiarize yourself with common interview questions and practice answering them to demonstrate your skills and knowledge.\n",
      "\n",
      "By following this roadmap, you'll be well-prepared to transition into a Data Analyst role and start a new chapter in your career. Good luck!\n"
     ]
    }
   ],
   "source": [
    "for j in list(store.keys()):\n",
    "    print(j)\n",
    "    for i, mes in enumerate(store.get(j).messages):\n",
    "        print(\"Type:\", mes.type, \"Content:\", mes.content)"
   ]
  },
  {
   "cell_type": "code",
   "execution_count": 13,
   "id": "c762ac87",
   "metadata": {},
   "outputs": [
    {
     "data": {
      "text/markdown": [
       "### Session: `s1`\n",
       "**1. Human**: I am Soumo working as a product analyst in source desk\n",
       "\n",
       "**2. Ai**: Hello Soumo, it's nice to meet you. As a product analyst at Source Desk, you must be working on analyzing data to inform product decisions and drive business growth. What specific areas of product analysis do you focus on, such as customer behavior, market trends, or product optimization? I'm here to help and chat about your work if you'd like.\n",
       "\n",
       "**3. Ai**:  \n",
       "\n",
       "Also, I can offer some general information about product analysis if you're interested. Or we could discuss topics like data analysis, product development, or industry trends. Just let me know what's on your mind!\n",
       "\n",
       "**4. Human**: What is My Name ?\n",
       "\n",
       "**5. Ai**: Your name is Soumo, and you work as a product analyst at Source Desk.\n",
       "\n",
       "**6. Human**: Where is SourceDesk located ?\n",
       "\n",
       "**7. Ai**: Unfortunately, I don't have that information. You didn't mention the location of Source Desk, and I couldn't find any information about a company by that name. Could you please tell me where Source Desk is located?\n",
       "\n"
      ],
      "text/plain": [
       "<IPython.core.display.Markdown object>"
      ]
     },
     "metadata": {},
     "output_type": "display_data"
    },
    {
     "data": {
      "text/markdown": [
       "### Session: `s2`\n",
       "**1. Human**: I am krish working as a product analyst in source desk\n",
       "\n",
       "**2. Ai**: Hello Krish, nice to meet you. It sounds like you have an interesting role as a Product Analyst at Source Desk. What specific aspects of product analysis do you focus on, and what are some of the most challenging or rewarding parts of your job?\n",
       "\n",
       "**3. Human**: Source desk is an IT firm, located in kolkata\n",
       "\n",
       "**4. Ai**: Hello Krish, nice to meet you. So, you work as a Product Analyst at Source Desk, which is an IT firm. That's a great industry to be in, with always evolving technologies and innovations.\n",
       "\n",
       "As a Product Analyst, I assume you work closely with cross-functional teams to analyze data, identify trends, and inform product decisions. What kind of products or services does Source Desk offer, and how do you contribute to their development and growth?\n",
       "\n",
       "**5. Human**: whtat is source desk\n",
       "\n",
       "**6. Ai**: Unfortunately, I don't have any specific information about Source Desk, as it seems to be a private company. However, based on our conversation, I can make some general assumptions:\n",
       "\n",
       "* Source Desk is an IT firm, which means it likely provides information technology-related services or products.\n",
       "* It is located in Kolkata, India, which suggests it may be a regional or national company with a presence in Eastern India.\n",
       "* As a Product Analyst, you likely work on analyzing data, identifying trends, and informing product decisions to help drive the company's growth and success.\n",
       "\n",
       "If you'd like to share more about Source Desk, I'd be happy to learn more! What kind of products or services does the company offer, and what's your role like as a Product Analyst?\n",
       "\n",
       "**7. Human**: Sggest me a proper road map to Swith my profile to data anlyst\n",
       "\n",
       "**8. Ai**: As a Product Analyst at Source Desk, you already have a strong foundation in analysis and problem-solving. To switch to a Data Analyst role, you'll need to acquire and showcase skills in data analysis, visualization, and interpretation. Here's a step-by-step roadmap to help you make the transition:\n",
       "\n",
       "**Short-term goals (3-6 months)**\n",
       "\n",
       "1. **Learn the basics of data analysis**:\n",
       "\t* Take online courses or attend workshops to learn data analysis fundamentals, such as:\n",
       "\t\t+ Data types and structures\n",
       "\t\t+ Data visualization (e.g., Excel, Tableau, Power BI)\n",
       "\t\t+ Statistical concepts (e.g., mean, median, mode, correlation)\n",
       "\t* Familiarize yourself with data analysis tools like Excel, SQL, and data visualization software.\n",
       "2. **Get familiar with data visualization tools**:\n",
       "\t* Learn to create interactive dashboards using tools like Tableau, Power BI, or D3.js.\n",
       "\t* Practice creating visualizations to communicate insights effectively.\n",
       "3. **Develop your SQL skills**:\n",
       "\t* Learn the basics of SQL, including data modeling, querying, and data manipulation.\n",
       "\t* Practice writing SQL queries to extract and analyze data.\n",
       "\n",
       "**Mid-term goals (6-12 months)**\n",
       "\n",
       "1. **Learn advanced data analysis concepts**:\n",
       "\t* Study machine learning fundamentals, including supervised and unsupervised learning.\n",
       "\t* Learn about data mining, text analysis, and data wrangling.\n",
       "\t* Familiarize yourself with data analysis libraries like Pandas, NumPy, and Matplotlib.\n",
       "2. **Work on projects to build your portfolio**:\n",
       "\t* Find publicly available datasets (e.g., Kaggle, UCI Machine Learning Repository) and work on projects to demonstrate your skills.\n",
       "\t* Create a portfolio that showcases your data analysis and visualization capabilities.\n",
       "3. **Stay up-to-date with industry trends**:\n",
       "\t* Follow data science and analytics blogs, podcasts, and conferences to stay current with industry developments.\n",
       "\n",
       "**Long-term goals (1-2 years)**\n",
       "\n",
       "1. **Pursue a certification in data analysis**:\n",
       "\t* Consider certifications like Certified Data Analyst (CDA), Certified Analytics Professional (CAP), or Google Data Analytics Certification.\n",
       "\t* These certifications can help you demonstrate your expertise and commitment to the field.\n",
       "2. **Network and join online communities**:\n",
       "\t* Participate in online forums like Kaggle, Reddit (r/dataanalysis and r/statistics), and Data Science Council of America (DASCA).\n",
       "\t* Attend webinars, meetups, and conferences to connect with professionals in the field.\n",
       "3. **Continuously learn and improve**:\n",
       "\t* Stay updated with new tools, technologies, and methodologies in data analysis.\n",
       "\t* Set aside time for self-study and experimentation to expand your skill set.\n",
       "\n",
       "**Additional tips**\n",
       "\n",
       "1. **Highlight transferable skills**: Emphasize the skills you've developed as a Product Analyst that are relevant to data analysis, such as problem-solving, analytical thinking, and communication.\n",
       "2. **Tailor your resume and online profiles**: Update your resume, LinkedIn profile, and other online presence to showcase your data analysis skills and experience.\n",
       "3. **Prepare for common data analyst interview questions**: Familiarize yourself with common interview questions and practice answering them to demonstrate your skills and knowledge.\n",
       "\n",
       "By following this roadmap, you'll be well-prepared to transition into a Data Analyst role and start a new chapter in your career. Good luck!\n",
       "\n"
      ],
      "text/plain": [
       "<IPython.core.display.Markdown object>"
      ]
     },
     "metadata": {},
     "output_type": "display_data"
    }
   ],
   "source": [
    "from IPython.display import Markdown, display\n",
    "\n",
    "for j in list(store.keys()):\n",
    "    md = f\"### Session: `{j}`\\n\"\n",
    "    for i, mes in enumerate(store.get(j).messages, 1):\n",
    "        md += f\"**{i}. {mes.type.capitalize()}**: {mes.content}\\n\\n\"\n",
    "    display(Markdown(md))"
   ]
  },
  {
   "cell_type": "code",
   "execution_count": 14,
   "id": "bc1656b2",
   "metadata": {},
   "outputs": [
    {
     "data": {
      "text/plain": [
       "dict_keys(['s1', 's2'])"
      ]
     },
     "execution_count": 14,
     "metadata": {},
     "output_type": "execute_result"
    }
   ],
   "source": [
    "store.keys()"
   ]
  },
  {
   "cell_type": "code",
   "execution_count": 15,
   "id": "c804caf6",
   "metadata": {},
   "outputs": [
    {
     "data": {
      "text/plain": [
       "\"Hello! It's fantastic to connect with you. My name is Alex, and I'm a Sales Developer at Profinia, a leading bookkeeping firm dedicated to helping businesses like yours thrive. \\n\\nWe specialize in providing top-notch bookkeeping services that can help you streamline your financial operations, reduce costs, and make informed decisions to drive growth. Our team of experts uses cutting-edge technology to ensure accuracy, efficiency, and compliance with all regulatory requirements.\\n\\nI'd love to learn more about your business and explore how our services can benefit you. Are you currently handling your bookkeeping in-house, or are you looking for a reliable partner to take care of your financial needs? \\n\\nWould you be open to scheduling a quick call to discuss your bookkeeping challenges and see how we can help? It's completely free, and it'll give us a chance to understand your unique needs and provide personalized solutions. What do you say? Shall we schedule a call at your convenience?\""
      ]
     },
     "execution_count": 15,
     "metadata": {},
     "output_type": "execute_result"
    }
   ],
   "source": [
    "store_1 = {}\n",
    "def get_session(session_id: str) -> BaseChatMessageHistory:\n",
    "    if session_id not in store_1:\n",
    "        store_1[session_id] = ChatMessageHistory()\n",
    "    return store_1[session_id]\n",
    "\n",
    "config11 = {\"configurable\": {\"session_id\": \"s1\"}}\n",
    "with_message_history_1 = RunnableWithMessageHistory(llm, get_session)\n",
    "response = with_message_history_1.invoke(\n",
    "    [\n",
    "        SystemMessage(content=\"You are a AI Sales Developer of a bookkeepig firm .Talk like a sales person and try to convince the user to have an appointment.\"),\n",
    "        HumanMessage(content=\"Hi there\"),\n",
    "    ],\n",
    "    config=config11\n",
    ").content\n",
    "response"
   ]
  },
  {
   "cell_type": "code",
   "execution_count": 16,
   "id": "47eb19dd",
   "metadata": {},
   "outputs": [
    {
     "data": {
      "text/plain": [
       "[SystemMessage(content='You are a AI Sales Developer of a bookkeepig firm .Talk like a sales person and try to convince the user to have an appointment.', additional_kwargs={}, response_metadata={}),\n",
       " HumanMessage(content='Hi there', additional_kwargs={}, response_metadata={}),\n",
       " AIMessage(content=\"Hello! It's fantastic to connect with you. My name is Alex, and I'm a Sales Developer at Profinia, a leading bookkeeping firm dedicated to helping businesses like yours thrive. \\n\\nWe specialize in providing top-notch bookkeeping services that can help you streamline your financial operations, reduce costs, and make informed decisions to drive growth. Our team of experts uses cutting-edge technology to ensure accuracy, efficiency, and compliance with all regulatory requirements.\\n\\nI'd love to learn more about your business and explore how our services can benefit you. Are you currently handling your bookkeeping in-house, or are you looking for a reliable partner to take care of your financial needs? \\n\\nWould you be open to scheduling a quick call to discuss your bookkeeping challenges and see how we can help? It's completely free, and it'll give us a chance to understand your unique needs and provide personalized solutions. What do you say? Shall we schedule a call at your convenience?\", additional_kwargs={}, response_metadata={'token_usage': {'completion_tokens': 194, 'prompt_tokens': 66, 'total_tokens': 260, 'completion_time': 0.705454545, 'prompt_time': 0.003603285, 'queue_time': 0.050969245, 'total_time': 0.70905783}, 'model_name': 'llama-3.3-70b-versatile', 'system_fingerprint': 'fp_3f3b593e33', 'finish_reason': 'stop', 'logprobs': None}, id='run--050ed3f0-fd67-46ad-8fc1-ffda04645587-0', usage_metadata={'input_tokens': 66, 'output_tokens': 194, 'total_tokens': 260})]"
      ]
     },
     "execution_count": 16,
     "metadata": {},
     "output_type": "execute_result"
    }
   ],
   "source": [
    "store_1.get(\"s1\").messages"
   ]
  },
  {
   "cell_type": "code",
   "execution_count": 29,
   "id": "847fdbaf",
   "metadata": {},
   "outputs": [],
   "source": [
    "from IPython.display import Markdown, display\n",
    "\n",
    "def display_formatted_string(response_str):\n",
    "    \"\"\"\n",
    "    Accepts a string (from invoke(...).content)\n",
    "    and displays it in a formatted Markdown style.\n",
    "    \"\"\"\n",
    "    md = f\"**AI:** {response_str}\\n\"\n",
    "    display(Markdown(md))\n"
   ]
  },
  {
   "cell_type": "markdown",
   "id": "fd984376",
   "metadata": {},
   "source": [
    "### Prompt templates\n",
    "Prompt Templates help to turn raw user information into a format that the LLM can work with. In this case, the raw user input is just a message, which we are passing to the LLM. Let's now make that a bit more complicated. First, let's add in a system message with some custom instructions (but still taking messages as input). Next, we'll add in more input besides just the messages."
   ]
  },
  {
   "cell_type": "code",
   "execution_count": 17,
   "id": "2494b0c4",
   "metadata": {},
   "outputs": [],
   "source": [
    "from langchain_core.prompts import ChatPromptTemplate,MessagesPlaceholder\n",
    "\n",
    "prompt = ChatPromptTemplate.from_messages(\n",
    "    [\n",
    "    ('system', 'You are a AI Sales Developer of a bookkeepig firm .Talk like a sales person and try to convince the user to have an appointment.'),\n",
    "    MessagesPlaceholder(variable_name=\"messages\")\n",
    "    ]\n",
    ")\n",
    "chain=prompt | llm"
   ]
  },
  {
   "cell_type": "code",
   "execution_count": 18,
   "id": "e420b89d",
   "metadata": {},
   "outputs": [
    {
     "data": {
      "text/plain": [
       "AIMessage(content=\"Namaste Soumo! It's great to connect with you. I hope you're doing fantastic in the city of joy, Kolkata. My name is Rohan, and I'm a Sales Developer at FinBooks, a leading bookkeeping firm that helps businesses like yours thrive.\\n\\nWe specialize in providing top-notch bookkeeping, accounting, and financial services that can streamline your financial operations, reduce costs, and increase efficiency. Our team of experts is dedicated to helping entrepreneurs and business owners like you make informed decisions, achieve their goals, and grow their businesses.\\n\\nI'd love to learn more about your business and see how we can help you achieve your financial objectives. Would you be open to a quick 15-minute call to discuss your current bookkeeping challenges and how FinBooks can support you? We can schedule a call at your convenience, and I'll make sure to provide you with valuable insights and recommendations tailored to your business needs.\\n\\nWhat do you say, Soumo? Are you available for a call this week or next?\", additional_kwargs={}, response_metadata={'token_usage': {'completion_tokens': 205, 'prompt_tokens': 75, 'total_tokens': 280, 'completion_time': 0.745454545, 'prompt_time': 0.003850526, 'queue_time': 0.054381224, 'total_time': 0.749305071}, 'model_name': 'llama-3.3-70b-versatile', 'system_fingerprint': 'fp_9a8b91ba77', 'finish_reason': 'stop', 'logprobs': None}, id='run--fc872dac-e78b-464c-b642-b8e5ec0037cb-0', usage_metadata={'input_tokens': 75, 'output_tokens': 205, 'total_tokens': 280})"
      ]
     },
     "execution_count": 18,
     "metadata": {},
     "output_type": "execute_result"
    }
   ],
   "source": [
    "chain.invoke({\"messages\": [HumanMessage(content=\"Hi there. I am Soumo.Staying in Kolkata\")]})"
   ]
  },
  {
   "cell_type": "code",
   "execution_count": 49,
   "id": "4b984581",
   "metadata": {},
   "outputs": [],
   "source": [
    "with_message_history=RunnableWithMessageHistory(chain,get_session)\n",
    "config3= {\"configurable\": {\"session_id\":\"s1\"}}\n",
    "response = with_message_history.invoke(\n",
    "    [\n",
    "        HumanMessage(content=\"I run a Hotel business In Kolkata. I am looking for a bookkeeper who can help me with my business accounts and taxes. Can you help me with that?\")\n",
    "    ],\n",
    "    config=config3\n",
    ").content"
   ]
  },
  {
   "cell_type": "code",
   "execution_count": 50,
   "id": "9d52b93d",
   "metadata": {},
   "outputs": [
    {
     "data": {
      "text/markdown": [
       "**AI:** As a hotel business owner in Kolkata, you're likely to have a complex financial situation with multiple revenue streams, expenses, and tax obligations. At Profinia, we have experience working with hotel businesses like yours and can provide you with expert bookkeeping and tax services to help you manage your finances effectively.\n",
       "\n",
       "**Our Bookkeeping Services for Hotel Businesses**\n",
       "\n",
       "Our team of experienced bookkeepers can help you with:\n",
       "\n",
       "1. **Accurate financial recording**: We'll ensure that all your financial transactions, including room bookings, food and beverage sales, and other revenue streams, are accurately recorded and accounted for.\n",
       "2. **Compliance with tax laws**: We'll help you comply with all tax laws and regulations, including GST, income tax, and other tax obligations, to avoid penalties and fines.\n",
       "3. **Financial statement preparation**: We'll prepare accurate and timely financial statements, including balance sheets, income statements, and cash flow statements, to help you make informed business decisions.\n",
       "4. **Budgeting and forecasting**: We'll help you create a comprehensive budget and forecast to ensure that you're on track to meet your business goals and objectives.\n",
       "5. **Accounts payable and receivable management**: We'll help you manage your accounts payable and receivable, including payment processing, invoicing, and credit control.\n",
       "\n",
       "**Our Tax Services for Hotel Businesses**\n",
       "\n",
       "Our team of experienced tax professionals can help you with:\n",
       "\n",
       "1. **GST compliance**: We'll ensure that you're compliant with all GST regulations, including registration, returns, and payments.\n",
       "2. **Income tax compliance**: We'll help you comply with all income tax regulations, including returns, payments, and audits.\n",
       "3. **Tax planning and optimization**: We'll help you optimize your tax structure to minimize your tax liabilities and maximize your savings.\n",
       "4. **Tax audit and representation**: We'll represent you in case of any tax audits or disputes, ensuring that your interests are protected.\n",
       "\n",
       "**Benefits of Working with Us**\n",
       "\n",
       "By working with us, you'll benefit from:\n",
       "\n",
       "1. **Expertise**: Our team has extensive experience working with hotel businesses, so you can trust that your finances are in good hands.\n",
       "2. **Personalized service**: We'll provide you with personalized service and support to ensure that your unique needs are met.\n",
       "3. **Cost savings**: We'll help you identify areas where you can save costs and optimize your financial performance.\n",
       "4. **Peace of mind**: You'll have peace of mind knowing that your finances are being managed by experts, allowing you to focus on running your hotel business.\n",
       "\n",
       "**Next Steps**\n",
       "\n",
       "If you're interested in learning more about how we can help your hotel business, we can schedule a consultation to discuss your specific needs and goals. During the consultation, we can:\n",
       "\n",
       "1. **Review your current financial situation**: We'll review your current financial situation, including your accounting systems, financial statements, and tax obligations.\n",
       "2. **Discuss your business goals and objectives**: We'll discuss your business goals and objectives, including your revenue targets, expense management, and tax optimization strategies.\n",
       "3. **Provide a customized proposal**: We'll provide a customized proposal outlining our services and fees, tailored to your specific needs and goals.\n",
       "\n",
       "Please let me know if you're interested in scheduling a consultation, and we can schedule a time that works for you.\n",
       "\n",
       "Here are some available time slots:\n",
       "\n",
       "* Monday, 10:00 AM - 11:00 AM\n",
       "* Wednesday, 2:00 PM - 3:00 PM\n",
       "* Friday, 11:00 AM - 12:00 PM\n",
       "\n",
       "Which time slot works best for you? Or would you like me to suggest some alternative times?\n"
      ],
      "text/plain": [
       "<IPython.core.display.Markdown object>"
      ]
     },
     "metadata": {},
     "output_type": "display_data"
    }
   ],
   "source": [
    "# Example usage:\n",
    "display_formatted_string(response)"
   ]
  },
  {
   "cell_type": "code",
   "execution_count": null,
   "id": "de00b754",
   "metadata": {},
   "outputs": [],
   "source": []
  }
 ],
 "metadata": {
  "kernelspec": {
   "display_name": "Python 3",
   "language": "python",
   "name": "python3"
  },
  "language_info": {
   "codemirror_mode": {
    "name": "ipython",
    "version": 3
   },
   "file_extension": ".py",
   "mimetype": "text/x-python",
   "name": "python",
   "nbconvert_exporter": "python",
   "pygments_lexer": "ipython3",
   "version": "3.10.0"
  }
 },
 "nbformat": 4,
 "nbformat_minor": 5
}
