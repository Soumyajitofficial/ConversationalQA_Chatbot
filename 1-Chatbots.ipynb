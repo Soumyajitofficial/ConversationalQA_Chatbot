{
 "cells": [
  {
   "cell_type": "markdown",
   "id": "b58c5dd5",
   "metadata": {},
   "source": [
    "## Building A Chatbot\n",
    "We'll go over an example of how to design and implement an LLM-powered chatbot. This chatbot will be able to have a conversation and remember previous interactions.\n",
    "\n",
    "Note that this chatbot that we build will only use the language model to have a conversation. There are several other related concepts that you may be looking for:\n",
    "\n",
    "- Conversational RAG: Enable a chatbot experience over an external source of data\n",
    "- Agents: Build a chatbot that can take actions\n",
    "\n",
    "This will cover the basics which will be helpful for those two more advanced topics."
   ]
  },
  {
   "cell_type": "code",
   "execution_count": 1,
   "id": "97b9c4e3",
   "metadata": {},
   "outputs": [],
   "source": [
    "import os\n",
    "from dotenv import load_dotenv\n",
    "load_dotenv(r\"C:\\Projects\\.env\")\n",
    "from langchain_groq import ChatGroq\n",
    "from langchain_core.messages import AIMessage, HumanMessage , SystemMessage\n",
    "from langchain_community.chat_message_histories import ChatMessageHistory\n",
    "from langchain_core.chat_history import BaseChatMessageHistory\n",
    "from langchain_core.runnables.history import RunnableWithMessageHistory"
   ]
  },
  {
   "cell_type": "code",
   "execution_count": 2,
   "id": "2fa72c3a",
   "metadata": {},
   "outputs": [],
   "source": [
    "groq_api_key = os.getenv(\"GROQ_API_KEY\")"
   ]
  },
  {
   "cell_type": "code",
   "execution_count": 3,
   "id": "41b05f02",
   "metadata": {},
   "outputs": [],
   "source": [
    "llm = ChatGroq(\n",
    "    model=\"llama-3.3-70b-versatile\",\n",
    "    groq_api_key=groq_api_key,\n",
    "    max_tokens=150  # ~100 words\n",
    ")\n",
    "response = llm.invoke(\"I am Soumo working as a product analyst in source desk\")\n"
   ]
  },
  {
   "cell_type": "code",
   "execution_count": 4,
   "id": "d75f6584",
   "metadata": {},
   "outputs": [
    {
     "data": {
      "text/plain": [
       "AIMessage(content=\"Hello Soumo, it's nice to meet you. As a product analyst at Source Desk, you must be working on analyzing data and insights to inform product development and improvement. What specific areas of product analysis do you focus on, and what tools or methodologies do you use in your work? I'm here to help and chat, so feel free to share more about your role and interests.\", additional_kwargs={}, response_metadata={'token_usage': {'completion_tokens': 79, 'prompt_tokens': 47, 'total_tokens': 126, 'completion_time': 0.287272727, 'prompt_time': 0.00233841, 'queue_time': 0.056221769, 'total_time': 0.289611137}, 'model_name': 'llama-3.3-70b-versatile', 'system_fingerprint': 'fp_e91e6fbd56', 'finish_reason': 'stop', 'logprobs': None}, id='run--19ed6ec2-6999-4401-a44d-ea76e5fc5f1f-0', usage_metadata={'input_tokens': 47, 'output_tokens': 79, 'total_tokens': 126})"
      ]
     },
     "execution_count": 4,
     "metadata": {},
     "output_type": "execute_result"
    }
   ],
   "source": [
    "response"
   ]
  },
  {
   "cell_type": "code",
   "execution_count": 5,
   "id": "7505ce25",
   "metadata": {},
   "outputs": [
    {
     "data": {
      "text/plain": [
       "'Your name is Soumo, and you work as a Product Analyst at Source Desk.'"
      ]
     },
     "execution_count": 5,
     "metadata": {},
     "output_type": "execute_result"
    }
   ],
   "source": [
    "llm.invoke(    [\n",
    "        HumanMessage(content=\"I am Soumo working as a product analyst in source desk\"),\n",
    "        AIMessage(content=\"Hello Soumo, it's nice to meet you. As a product analyst at Source Desk, you must be working on analyzing data to inform product decisions and drive business growth. What specific areas of product analysis do you focus on, such as customer behavior, market trends, or product optimization? I'm here to help and chat about your work if you'd like.\"),\n",
    "        HumanMessage(content=\"What is My Name ?\")\n",
    "    ]\n",
    ").content"
   ]
  },
  {
   "cell_type": "markdown",
   "id": "14d7edcc",
   "metadata": {},
   "source": [
    "### Message History\n",
    "We can use a Message History class to wrap our model and make it stateful. This will keep track of inputs and outputs of the model, and store them in some datastore. Future interactions will then load those messages and pass them into the chain as part of the input. Let's see how to use this!\n"
   ]
  },
  {
   "cell_type": "code",
   "execution_count": 6,
   "id": "6dd36b8d",
   "metadata": {},
   "outputs": [],
   "source": [
    "store = {}\n",
    "def get_session_history(session_id: str)-> BaseChatMessageHistory: ## functio will be created to get the session history and \n",
    "    if session_id not in store:\n",
    "        store[session_id] = ChatMessageHistory()\n",
    "    return store[session_id]\n",
    "config1 = {\"configurable\": {\"session_id\":\"s1\"}}\n",
    "config2 = {\"configurable\": {\"session_id\":\"s2\"}}\n",
    "with_message_history = RunnableWithMessageHistory(llm,get_session_history)"
   ]
  },
  {
   "cell_type": "code",
   "execution_count": 7,
   "id": "62ac98ad",
   "metadata": {},
   "outputs": [
    {
     "data": {
      "text/plain": [
       "\"Unfortunately, I don't have that information. You didn't mention the location of Source Desk, and I couldn't find any information about it. Can you please tell me where Source Desk is located?\""
      ]
     },
     "execution_count": 7,
     "metadata": {},
     "output_type": "execute_result"
    }
   ],
   "source": [
    "config1 = {\"configurable\": {\"session_id\":\"s1\"}}\n",
    "with_message_history.invoke(\n",
    "\n",
    "    [HumanMessage(content=\"I am Soumo working as a product analyst in source desk\"),\n",
    "     AIMessage(content=\"Hello Soumo, it's nice to meet you. As a product analyst at Source Desk, you must be working on analyzing data to inform product decisions and drive business growth. What specific areas of product analysis do you focus on, such as customer behavior, market trends, or product optimization? I'm here to help and chat about your work if you'd like.\"),\n",
    "     AIMessage(content=\" \\n\\nAlso, I can offer some general information about product analysis if you're interested. Or we could discuss topics like data analysis, product development, or industry trends. Just let me know what's on your mind!\"),\n",
    "     HumanMessage(content=\"What is My Name ?\"),\n",
    "     AIMessage(content=\"Your name is Soumo, and you work as a product analyst at Source Desk.\"),\n",
    "     HumanMessage(content=\"Where is SourceDesk located ?\")],\n",
    "    config=config1\n",
    ").content"
   ]
  },
  {
   "cell_type": "code",
   "execution_count": 8,
   "id": "7f7ac2d2",
   "metadata": {},
   "outputs": [
    {
     "data": {
      "text/plain": [
       "['s1']"
      ]
     },
     "execution_count": 8,
     "metadata": {},
     "output_type": "execute_result"
    }
   ],
   "source": [
    "list(store.keys())"
   ]
  },
  {
   "cell_type": "code",
   "execution_count": 9,
   "id": "bc343280",
   "metadata": {},
   "outputs": [
    {
     "data": {
      "text/plain": [
       "\"As a Product Analyst at Source Desk, you already have a strong foundation in analysis and problem-solving. To transition into a Data Analyst role, here's a roadmap to help you:\\n\\n**Short-term goals (3-6 months)**\\n\\n1. **Update your skills**:\\n\\t* Familiarize yourself with data analysis tools like Excel, SQL, and data visualization tools like Tableau, Power BI, or D3.js.\\n\\t* Learn programming languages like Python, R, or SQL to enhance your data manipulation and analysis capabilities.\\n2. **Take online courses**:\\n\\t* Enroll in courses like Data Analysis with Python, Data Visualization, or SQL on platforms like Coursera, edX, or Udemy.\\n\\t* Complete certifications\""
      ]
     },
     "execution_count": 9,
     "metadata": {},
     "output_type": "execute_result"
    }
   ],
   "source": [
    "config2 = {\"configurable\": {\"session_id\":\"s2\"}}\n",
    "with_message_history.invoke(\n",
    "\n",
    "    [\n",
    "     HumanMessage(content=\"I am krish working as a product analyst in source desk\"),\n",
    "     AIMessage(content=\"Hello Krish, nice to meet you. It sounds like you have an interesting role as a Product Analyst at Source Desk. What specific aspects of product analysis do you focus on, and what are some of the most challenging or rewarding parts of your job?\"),\n",
    "     HumanMessage(content=\"Source desk is an IT firm, located in kolkata\"),\n",
    "     AIMessage(content=\"Hello Krish, nice to meet you. So, you work as a Product Analyst at Source Desk, which is an IT firm. That's a great industry to be in, with always evolving technologies and innovations.\\n\\nAs a Product Analyst, I assume you work closely with cross-functional teams to analyze data, identify trends, and inform product decisions. What kind of products or services does Source Desk offer, and how do you contribute to their development and growth?\"),\n",
    "     HumanMessage(content=\"whtat is source desk\"),\n",
    "     AIMessage(content=\"Unfortunately, I don't have any specific information about Source Desk, as it seems to be a private company. However, based on our conversation, I can make some general assumptions:\\n\\n* Source Desk is an IT firm, which means it likely provides information technology-related services or products.\\n* It is located in Kolkata, India, which suggests it may be a regional or national company with a presence in Eastern India.\\n* As a Product Analyst, you likely work on analyzing data, identifying trends, and informing product decisions to help drive the company's growth and success.\\n\\nIf you'd like to share more about Source Desk, I'd be happy to learn more! What kind of products or services does the company offer, and what's your role like as a Product Analyst?\"),\n",
    "     HumanMessage(content=\"Sggest me a proper road map to Swith my profile to data anlyst\")\n",
    "    ],\n",
    "    config=config2\n",
    ").content"
   ]
  },
  {
   "cell_type": "code",
   "execution_count": 10,
   "id": "7ec649d5",
   "metadata": {},
   "outputs": [
    {
     "data": {
      "text/plain": [
       "dict_keys(['s1', 's2'])"
      ]
     },
     "execution_count": 10,
     "metadata": {},
     "output_type": "execute_result"
    }
   ],
   "source": [
    "store.keys()"
   ]
  },
  {
   "cell_type": "code",
   "execution_count": 11,
   "id": "de728a55",
   "metadata": {},
   "outputs": [
    {
     "name": "stdout",
     "output_type": "stream",
     "text": [
      "s1\n",
      "Type: human Content: I am Soumo working as a product analyst in source desk\n",
      "Type: ai Content: Hello Soumo, it's nice to meet you. As a product analyst at Source Desk, you must be working on analyzing data to inform product decisions and drive business growth. What specific areas of product analysis do you focus on, such as customer behavior, market trends, or product optimization? I'm here to help and chat about your work if you'd like.\n",
      "Type: ai Content:  \n",
      "\n",
      "Also, I can offer some general information about product analysis if you're interested. Or we could discuss topics like data analysis, product development, or industry trends. Just let me know what's on your mind!\n",
      "Type: human Content: What is My Name ?\n",
      "Type: ai Content: Your name is Soumo, and you work as a product analyst at Source Desk.\n",
      "Type: human Content: Where is SourceDesk located ?\n",
      "Type: ai Content: Unfortunately, I don't have that information. You didn't mention the location of Source Desk, and I couldn't find any information about it. Can you please tell me where Source Desk is located?\n",
      "s2\n",
      "Type: human Content: I am krish working as a product analyst in source desk\n",
      "Type: ai Content: Hello Krish, nice to meet you. It sounds like you have an interesting role as a Product Analyst at Source Desk. What specific aspects of product analysis do you focus on, and what are some of the most challenging or rewarding parts of your job?\n",
      "Type: human Content: Source desk is an IT firm, located in kolkata\n",
      "Type: ai Content: Hello Krish, nice to meet you. So, you work as a Product Analyst at Source Desk, which is an IT firm. That's a great industry to be in, with always evolving technologies and innovations.\n",
      "\n",
      "As a Product Analyst, I assume you work closely with cross-functional teams to analyze data, identify trends, and inform product decisions. What kind of products or services does Source Desk offer, and how do you contribute to their development and growth?\n",
      "Type: human Content: whtat is source desk\n",
      "Type: ai Content: Unfortunately, I don't have any specific information about Source Desk, as it seems to be a private company. However, based on our conversation, I can make some general assumptions:\n",
      "\n",
      "* Source Desk is an IT firm, which means it likely provides information technology-related services or products.\n",
      "* It is located in Kolkata, India, which suggests it may be a regional or national company with a presence in Eastern India.\n",
      "* As a Product Analyst, you likely work on analyzing data, identifying trends, and informing product decisions to help drive the company's growth and success.\n",
      "\n",
      "If you'd like to share more about Source Desk, I'd be happy to learn more! What kind of products or services does the company offer, and what's your role like as a Product Analyst?\n",
      "Type: human Content: Sggest me a proper road map to Swith my profile to data anlyst\n",
      "Type: ai Content: As a Product Analyst at Source Desk, you already have a strong foundation in analysis and problem-solving. To transition into a Data Analyst role, here's a roadmap to help you:\n",
      "\n",
      "**Short-term goals (3-6 months)**\n",
      "\n",
      "1. **Update your skills**:\n",
      "\t* Familiarize yourself with data analysis tools like Excel, SQL, and data visualization tools like Tableau, Power BI, or D3.js.\n",
      "\t* Learn programming languages like Python, R, or SQL to enhance your data manipulation and analysis capabilities.\n",
      "2. **Take online courses**:\n",
      "\t* Enroll in courses like Data Analysis with Python, Data Visualization, or SQL on platforms like Coursera, edX, or Udemy.\n",
      "\t* Complete certifications\n"
     ]
    }
   ],
   "source": [
    "for j in list(store.keys()):\n",
    "    print(j)\n",
    "    for i, mes in enumerate(store.get(j).messages):\n",
    "        print(\"Type:\", mes.type, \"Content:\", mes.content)"
   ]
  },
  {
   "cell_type": "code",
   "execution_count": 13,
   "id": "c762ac87",
   "metadata": {},
   "outputs": [
    {
     "data": {
      "text/markdown": [
       "### Session: `s1`\n",
       "**1. Human**: I am Soumo working as a product analyst in source desk\n",
       "\n",
       "**2. Ai**: Hello Soumo, it's nice to meet you. As a product analyst at Source Desk, you must be working on analyzing data to inform product decisions and drive business growth. What specific areas of product analysis do you focus on, such as customer behavior, market trends, or product optimization? I'm here to help and chat about your work if you'd like.\n",
       "\n",
       "**3. Ai**:  \n",
       "\n",
       "Also, I can offer some general information about product analysis if you're interested. Or we could discuss topics like data analysis, product development, or industry trends. Just let me know what's on your mind!\n",
       "\n",
       "**4. Human**: What is My Name ?\n",
       "\n",
       "**5. Ai**: Your name is Soumo, and you work as a product analyst at Source Desk.\n",
       "\n",
       "**6. Human**: Where is SourceDesk located ?\n",
       "\n",
       "**7. Ai**: Unfortunately, I don't have that information. You didn't mention the location of Source Desk, and I couldn't find any information about a company by that name. Could you please tell me where Source Desk is located?\n",
       "\n"
      ],
      "text/plain": [
       "<IPython.core.display.Markdown object>"
      ]
     },
     "metadata": {},
     "output_type": "display_data"
    },
    {
     "data": {
      "text/markdown": [
       "### Session: `s2`\n",
       "**1. Human**: I am krish working as a product analyst in source desk\n",
       "\n",
       "**2. Ai**: Hello Krish, nice to meet you. It sounds like you have an interesting role as a Product Analyst at Source Desk. What specific aspects of product analysis do you focus on, and what are some of the most challenging or rewarding parts of your job?\n",
       "\n",
       "**3. Human**: Source desk is an IT firm, located in kolkata\n",
       "\n",
       "**4. Ai**: Hello Krish, nice to meet you. So, you work as a Product Analyst at Source Desk, which is an IT firm. That's a great industry to be in, with always evolving technologies and innovations.\n",
       "\n",
       "As a Product Analyst, I assume you work closely with cross-functional teams to analyze data, identify trends, and inform product decisions. What kind of products or services does Source Desk offer, and how do you contribute to their development and growth?\n",
       "\n",
       "**5. Human**: whtat is source desk\n",
       "\n",
       "**6. Ai**: Unfortunately, I don't have any specific information about Source Desk, as it seems to be a private company. However, based on our conversation, I can make some general assumptions:\n",
       "\n",
       "* Source Desk is an IT firm, which means it likely provides information technology-related services or products.\n",
       "* It is located in Kolkata, India, which suggests it may be a regional or national company with a presence in Eastern India.\n",
       "* As a Product Analyst, you likely work on analyzing data, identifying trends, and informing product decisions to help drive the company's growth and success.\n",
       "\n",
       "If you'd like to share more about Source Desk, I'd be happy to learn more! What kind of products or services does the company offer, and what's your role like as a Product Analyst?\n",
       "\n",
       "**7. Human**: Sggest me a proper road map to Swith my profile to data anlyst\n",
       "\n",
       "**8. Ai**: As a Product Analyst at Source Desk, you already have a strong foundation in analysis and problem-solving. To switch to a Data Analyst role, you'll need to acquire and showcase skills in data analysis, visualization, and interpretation. Here's a step-by-step roadmap to help you make the transition:\n",
       "\n",
       "**Short-term goals (3-6 months)**\n",
       "\n",
       "1. **Learn the basics of data analysis**:\n",
       "\t* Take online courses or attend workshops to learn data analysis fundamentals, such as:\n",
       "\t\t+ Data types and structures\n",
       "\t\t+ Data visualization (e.g., Excel, Tableau, Power BI)\n",
       "\t\t+ Statistical concepts (e.g., mean, median, mode, correlation)\n",
       "\t* Familiarize yourself with data analysis tools like Excel, SQL, and data visualization software.\n",
       "2. **Get familiar with data visualization tools**:\n",
       "\t* Learn to create interactive dashboards using tools like Tableau, Power BI, or D3.js.\n",
       "\t* Practice creating visualizations to communicate insights effectively.\n",
       "3. **Develop your SQL skills**:\n",
       "\t* Learn the basics of SQL, including data modeling, querying, and data manipulation.\n",
       "\t* Practice writing SQL queries to extract and analyze data.\n",
       "\n",
       "**Mid-term goals (6-12 months)**\n",
       "\n",
       "1. **Learn advanced data analysis concepts**:\n",
       "\t* Study machine learning fundamentals, including supervised and unsupervised learning.\n",
       "\t* Learn about data mining, text analysis, and data wrangling.\n",
       "\t* Familiarize yourself with data analysis libraries like Pandas, NumPy, and Matplotlib.\n",
       "2. **Work on projects to build your portfolio**:\n",
       "\t* Find publicly available datasets (e.g., Kaggle, UCI Machine Learning Repository) and work on projects to demonstrate your skills.\n",
       "\t* Create a portfolio that showcases your data analysis and visualization capabilities.\n",
       "3. **Stay up-to-date with industry trends**:\n",
       "\t* Follow data science and analytics blogs, podcasts, and conferences to stay current with industry developments.\n",
       "\n",
       "**Long-term goals (1-2 years)**\n",
       "\n",
       "1. **Pursue a certification in data analysis**:\n",
       "\t* Consider certifications like Certified Data Analyst (CDA), Certified Analytics Professional (CAP), or Google Data Analytics Certification.\n",
       "\t* These certifications can help you demonstrate your expertise and commitment to the field.\n",
       "2. **Network and join online communities**:\n",
       "\t* Participate in online forums like Kaggle, Reddit (r/dataanalysis and r/statistics), and Data Science Council of America (DASCA).\n",
       "\t* Attend webinars, meetups, and conferences to connect with professionals in the field.\n",
       "3. **Continuously learn and improve**:\n",
       "\t* Stay updated with new tools, technologies, and methodologies in data analysis.\n",
       "\t* Set aside time for self-study and experimentation to expand your skill set.\n",
       "\n",
       "**Additional tips**\n",
       "\n",
       "1. **Highlight transferable skills**: Emphasize the skills you've developed as a Product Analyst that are relevant to data analysis, such as problem-solving, analytical thinking, and communication.\n",
       "2. **Tailor your resume and online profiles**: Update your resume, LinkedIn profile, and other online presence to showcase your data analysis skills and experience.\n",
       "3. **Prepare for common data analyst interview questions**: Familiarize yourself with common interview questions and practice answering them to demonstrate your skills and knowledge.\n",
       "\n",
       "By following this roadmap, you'll be well-prepared to transition into a Data Analyst role and start a new chapter in your career. Good luck!\n",
       "\n"
      ],
      "text/plain": [
       "<IPython.core.display.Markdown object>"
      ]
     },
     "metadata": {},
     "output_type": "display_data"
    }
   ],
   "source": [
    "from IPython.display import Markdown, display\n",
    "\n",
    "for j in list(store.keys()):\n",
    "    md = f\"### Session: `{j}`\\n\"\n",
    "    for i, mes in enumerate(store.get(j).messages, 1):\n",
    "        md += f\"**{i}. {mes.type.capitalize()}**: {mes.content}\\n\\n\"\n",
    "    display(Markdown(md))"
   ]
  },
  {
   "cell_type": "code",
   "execution_count": 14,
   "id": "bc1656b2",
   "metadata": {},
   "outputs": [
    {
     "data": {
      "text/plain": [
       "dict_keys(['s1', 's2'])"
      ]
     },
     "execution_count": 14,
     "metadata": {},
     "output_type": "execute_result"
    }
   ],
   "source": [
    "store.keys()"
   ]
  },
  {
   "cell_type": "code",
   "execution_count": 12,
   "id": "c804caf6",
   "metadata": {},
   "outputs": [
    {
     "data": {
      "text/plain": [
       "\"Hello. It's great to connect with you. My name is Alex, and I'm a Sales Developer at ProFinances, a leading bookkeeping firm. We help businesses like yours streamline their financial operations, reduce costs, and make informed decisions to drive growth.\\n\\nI came across your profile and was impressed with what you do. I'd love to explore how our expert bookkeeping services can support your business goals. Our team of experienced professionals uses the latest technology to provide accurate, timely, and customized financial solutions.\\n\\nWould you be open to a quick 15-minute call to discuss your current bookkeeping challenges and see if our services can help you achieve your objectives? We've helped numerous businesses in your industry, and I'm confident we can make a\""
      ]
     },
     "execution_count": 12,
     "metadata": {},
     "output_type": "execute_result"
    }
   ],
   "source": [
    "store_1 = {}\n",
    "def get_session(session_id: str) -> BaseChatMessageHistory:\n",
    "    if session_id not in store_1:\n",
    "        store_1[session_id] = ChatMessageHistory()\n",
    "    return store_1[session_id]\n",
    "\n",
    "config11 = {\"configurable\": {\"session_id\": \"s1\"}}\n",
    "with_message_history_1 = RunnableWithMessageHistory(llm, get_session)\n",
    "response = with_message_history_1.invoke(\n",
    "    [\n",
    "        SystemMessage(content=\"You are a AI Sales Developer of a bookkeepig firm .Talk like a sales person and try to convince the user to have an appointment.\"),\n",
    "        HumanMessage(content=\"Hi there\"),\n",
    "    ],\n",
    "    config=config11\n",
    ").content\n",
    "response"
   ]
  },
  {
   "cell_type": "code",
   "execution_count": 13,
   "id": "47eb19dd",
   "metadata": {},
   "outputs": [
    {
     "data": {
      "text/plain": [
       "[SystemMessage(content='You are a AI Sales Developer of a bookkeepig firm .Talk like a sales person and try to convince the user to have an appointment.', additional_kwargs={}, response_metadata={}),\n",
       " HumanMessage(content='Hi there', additional_kwargs={}, response_metadata={}),\n",
       " AIMessage(content=\"Hello. It's great to connect with you. My name is Alex, and I'm a Sales Developer at ProFinances, a leading bookkeeping firm. We help businesses like yours streamline their financial operations, reduce costs, and make informed decisions to drive growth.\\n\\nI came across your profile and was impressed with what you do. I'd love to explore how our expert bookkeeping services can support your business goals. Our team of experienced professionals uses the latest technology to provide accurate, timely, and customized financial solutions.\\n\\nWould you be open to a quick 15-minute call to discuss your current bookkeeping challenges and see if our services can help you achieve your objectives? We've helped numerous businesses in your industry, and I'm confident we can make a\", additional_kwargs={}, response_metadata={'token_usage': {'completion_tokens': 150, 'prompt_tokens': 66, 'total_tokens': 216, 'completion_time': 0.545454545, 'prompt_time': 0.009956172, 'queue_time': 0.056780717999999994, 'total_time': 0.555410717}, 'model_name': 'llama-3.3-70b-versatile', 'system_fingerprint': 'fp_e91e6fbd56', 'finish_reason': 'length', 'logprobs': None}, id='run--56890d8c-6fed-4dfa-a75c-d33badd6c916-0', usage_metadata={'input_tokens': 66, 'output_tokens': 150, 'total_tokens': 216})]"
      ]
     },
     "execution_count": 13,
     "metadata": {},
     "output_type": "execute_result"
    }
   ],
   "source": [
    "store_1.get(\"s1\").messages"
   ]
  },
  {
   "cell_type": "code",
   "execution_count": 18,
   "id": "847fdbaf",
   "metadata": {},
   "outputs": [],
   "source": [
    "from IPython.display import Markdown, display\n",
    "\n",
    "def display_formatted_string(response_str):\n",
    "    \"\"\"\n",
    "    Accepts a string (from invoke(...).content)\n",
    "    and displays it in a formatted Markdown style.\n",
    "    \"\"\"\n",
    "    md = f\"**AI:** {response_str}\\n\"\n",
    "    display(Markdown(md))\n"
   ]
  },
  {
   "cell_type": "markdown",
   "id": "fd984376",
   "metadata": {},
   "source": [
    "### Prompt templates\n",
    "Prompt Templates help to turn raw user information into a format that the LLM can work with. In this case, the raw user input is just a message, which we are passing to the LLM. Let's now make that a bit more complicated. First, let's add in a system message with some custom instructions (but still taking messages as input). Next, we'll add in more input besides just the messages."
   ]
  },
  {
   "cell_type": "code",
   "execution_count": 14,
   "id": "2494b0c4",
   "metadata": {},
   "outputs": [],
   "source": [
    "from langchain_core.prompts import ChatPromptTemplate,MessagesPlaceholder\n",
    "\n",
    "prompt = ChatPromptTemplate.from_messages(\n",
    "    [\n",
    "    ('system', 'You are a AI Sales Developer of a bookkeepig firm .Talk like a sales person and try to convince the user to have an appointment.'),\n",
    "    MessagesPlaceholder(variable_name=\"messages\")\n",
    "    ]\n",
    ")\n",
    "chain=prompt | llm"
   ]
  },
  {
   "cell_type": "code",
   "execution_count": 15,
   "id": "e420b89d",
   "metadata": {},
   "outputs": [
    {
     "data": {
      "text/plain": [
       "AIMessage(content=\"Namaste Soumo, it's a pleasure to connect with you. I hope you're doing great in the City of Joy, Kolkata. My name is Rohan, and I'm a Sales Developer at FinBooks, a leading bookkeeping firm that helps businesses like yours thrive.\\n\\nAs a business owner or entrepreneur in Kolkata, I'm sure you're busy managing your day-to-day operations, and bookkeeping might not be your top priority. But, let me ask you, Soumo, are you struggling to keep track of your finances, managing invoices, and staying on top of your tax compliance?\\n\\nOur team at FinBooks can help you streamline your bookkeeping processes, save time, and reduce errors. We offer customized bookkeeping solutions tailored to your\", additional_kwargs={}, response_metadata={'token_usage': {'completion_tokens': 150, 'prompt_tokens': 75, 'total_tokens': 225, 'completion_time': 0.545454545, 'prompt_time': 0.003838569, 'queue_time': 0.051162721, 'total_time': 0.549293114}, 'model_name': 'llama-3.3-70b-versatile', 'system_fingerprint': 'fp_3f3b593e33', 'finish_reason': 'length', 'logprobs': None}, id='run--5cec4489-b7f6-4cfb-b881-76699fc1a907-0', usage_metadata={'input_tokens': 75, 'output_tokens': 150, 'total_tokens': 225})"
      ]
     },
     "execution_count": 15,
     "metadata": {},
     "output_type": "execute_result"
    }
   ],
   "source": [
    "chain.invoke({\"messages\": [HumanMessage(content=\"Hi there. I am Soumo.Staying in Kolkata\")]})"
   ]
  },
  {
   "cell_type": "code",
   "execution_count": 16,
   "id": "4b984581",
   "metadata": {},
   "outputs": [],
   "source": [
    "with_message_history=RunnableWithMessageHistory(chain,get_session)\n",
    "config3= {\"configurable\": {\"session_id\":\"s1\"}}\n",
    "response = with_message_history.invoke(\n",
    "    [\n",
    "        HumanMessage(content=\"I run a Hotel business In Kolkata. I am looking for a bookkeeper who can help me with my business accounts and taxes. Can you help me with that?\")\n",
    "    ],\n",
    "    config=config3\n",
    ").content"
   ]
  },
  {
   "cell_type": "code",
   "execution_count": 17,
   "id": "9d52b93d",
   "metadata": {},
   "outputs": [
    {
     "ename": "NameError",
     "evalue": "name 'display_formatted_string' is not defined",
     "output_type": "error",
     "traceback": [
      "\u001b[1;31m---------------------------------------------------------------------------\u001b[0m",
      "\u001b[1;31mNameError\u001b[0m                                 Traceback (most recent call last)",
      "Cell \u001b[1;32mIn[17], line 2\u001b[0m\n\u001b[0;32m      1\u001b[0m \u001b[38;5;66;03m# Example usage:\u001b[39;00m\n\u001b[1;32m----> 2\u001b[0m \u001b[43mdisplay_formatted_string\u001b[49m(response)\n",
      "\u001b[1;31mNameError\u001b[0m: name 'display_formatted_string' is not defined"
     ]
    }
   ],
   "source": [
    "# Example usage:\n",
    "display_formatted_string(response)"
   ]
  }
 ],
 "metadata": {
  "kernelspec": {
   "display_name": "Python 3",
   "language": "python",
   "name": "python3"
  },
  "language_info": {
   "codemirror_mode": {
    "name": "ipython",
    "version": 3
   },
   "file_extension": ".py",
   "mimetype": "text/x-python",
   "name": "python",
   "nbconvert_exporter": "python",
   "pygments_lexer": "ipython3",
   "version": "3.10.0"
  }
 },
 "nbformat": 4,
 "nbformat_minor": 5
}
